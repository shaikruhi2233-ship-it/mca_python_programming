{
 "cells": [
  {
   "cell_type": "code",
   "execution_count": 2,
   "id": "341ea37e",
   "metadata": {},
   "outputs": [
    {
     "name": "stdout",
     "output_type": "stream",
     "text": [
      "Before swapping: a = 25 b = 30\n",
      "After swapping: a = 30 b = 25\n"
     ]
    }
   ],
   "source": [
    "#swapping variables\n",
    "a= int(input(\"Enter first number: \"))\n",
    "b = int(input(\"Enter second number: \"))\n",
    "\n",
    "print(\"Before swapping: a =\", a, \"b =\", b)\n",
    "\n",
    "\n",
    "temp = a\n",
    "a = b\n",
    "b = temp\n",
    "\n",
    "print(\"After swapping: a =\", a, \"b =\", b)\n"
   ]
  },
  {
   "cell_type": "code",
   "execution_count": 4,
   "id": "51af986e",
   "metadata": {},
   "outputs": [
    {
     "name": "stdout",
     "output_type": "stream",
     "text": [
      "Result: 9000\n"
     ]
    }
   ],
   "source": [
    "#simple calculator (no conditions)\n",
    "num1 = input(\"Enter first number: \")\n",
    "op = input(\"Enter operator (+, -, *, /): \")\n",
    "num2 = input(\"Enter second number: \")\n",
    "\n",
    "expression = num1 + op + num2\n",
    "result = eval(expression)\n",
    "print(\"Result:\", result)"
   ]
  },
  {
   "cell_type": "code",
   "execution_count": null,
   "id": "c0b9ec26",
   "metadata": {},
   "outputs": [
    {
     "name": "stdout",
     "output_type": "stream",
     "text": [
      "14 <class 'int'>\n",
      "14.0 <class 'float'>\n"
     ]
    }
   ],
   "source": [
    "#type conversion\n",
    "num_str = input(\"Enter a number:\")\n",
    "\n",
    "num_int = int(num_str)\n",
    "num_float = float(num_str)\n",
    "\n",
    "print(num_int, type(num_int))\n",
    "print(num_float, type(num_float))"
   ]
  },
  {
   "cell_type": "code",
   "execution_count": 7,
   "id": "791017d1",
   "metadata": {},
   "outputs": [
    {
     "name": "stdout",
     "output_type": "stream",
     "text": [
      "Root 1: (-0.01999999999999999+0.19899748742132398j)\n",
      "Root 2: (-0.020000000000000014-0.19899748742132398j)\n"
     ]
    }
   ],
   "source": [
    "a = float(input(\"Enter a: \"))\n",
    "b = float(input(\"Enter b: \"))\n",
    "c = float(input(\"Enter c: \"))\n",
    "\n",
    "d = b**2 - 4*a*c\n",
    "root1 = (-b + complex(d)**0.5) / (2*a)\n",
    "root2 = (-b - complex(d)**0.5) / (2*a)\n",
    "\n",
    "print(\"Root 1:\", root1)\n",
    "print(\"Root 2:\", root2)"
   ]
  },
  {
   "cell_type": "code",
   "execution_count": 9,
   "id": "b280233d",
   "metadata": {},
   "outputs": [
    {
     "name": "stdout",
     "output_type": "stream",
     "text": [
      "Name: shannu, Age: 21 years, Height: 150.0 cm\n"
     ]
    }
   ],
   "source": [
    "#custom data type format\n",
    "name = input(\"Enter name: \")\n",
    "age = int(input(\"Enter age: \"))\n",
    "height = float(input(\"Enter height in cm: \"))\n",
    "\n",
    "print(f\"Name: {name}, Age: {age} years, Height: {height} cm\")"
   ]
  },
  {
   "cell_type": "code",
   "execution_count": 10,
   "id": "1410bb00",
   "metadata": {},
   "outputs": [
    {
     "name": "stdout",
     "output_type": "stream",
     "text": [
      "Result: 29.81\n"
     ]
    }
   ],
   "source": [
    "#complex expression evaluation\n",
    "num1 = float(input(\"Enter first number: \"))\n",
    "num2 = float(input(\"Enter second number: \"))\n",
    "num3 = float(input(\"Enter third number: \"))\n",
    "\n",
    "result = ((num1 + num2) * num3) / (num1 - num2)\n",
    "print(\"Result:\", round(result, 2))"
   ]
  },
  {
   "cell_type": "code",
   "execution_count": 1,
   "id": "0920b9c0",
   "metadata": {},
   "outputs": [
    {
     "name": "stdout",
     "output_type": "stream",
     "text": [
      "Sum: 50.0\n"
     ]
    }
   ],
   "source": [
    "#sum of two numbers\n",
    "num1 = float(input(\"Enter first number: \"))\n",
    "num2 = float(input(\"Enter second number: \"))\n",
    "\n",
    "sum_result = num1 + num2\n",
    "print(\"Sum:\", sum_result)"
   ]
  },
  {
   "cell_type": "code",
   "execution_count": 7,
   "id": "72e7f04e",
   "metadata": {},
   "outputs": [
    {
     "name": "stdout",
     "output_type": "stream",
     "text": [
      "Uppercase: HELLO\n"
     ]
    }
   ],
   "source": [
    "#upper case string\n",
    "text = input(\"Enter a string: \")\n",
    "print(\"Uppercase:\", text.upper())"
   ]
  },
  {
   "cell_type": "code",
   "execution_count": 9,
   "id": "b7a46b5d",
   "metadata": {},
   "outputs": [
    {
     "name": "stdout",
     "output_type": "stream",
     "text": [
      "Square: 250000.0\n"
     ]
    }
   ],
   "source": [
    "#square of a number\n",
    "num = float(input(\"Enter a number: \"))\n",
    "square = num ** 2\n",
    "print(\"Square:\", square)"
   ]
  },
  {
   "cell_type": "code",
   "execution_count": 26,
   "id": "65547b1f",
   "metadata": {},
   "outputs": [
    {
     "name": "stdout",
     "output_type": "stream",
     "text": [
      "Concatenated String: alluarjun\n"
     ]
    }
   ],
   "source": [
    "#String Concatenation\n",
    "str1 = input(\"Enter first string: \")\n",
    "str2 = input(\"Enter second string: \")\n",
    "\n",
    "result = str1 + str2\n",
    "print(\"Concatenated String:\", result)\n"
   ]
  },
  {
   "cell_type": "code",
   "execution_count": 42,
   "id": "2503a5e7",
   "metadata": {},
   "outputs": [
    {
     "name": "stdout",
     "output_type": "stream",
     "text": [
      "Integer equivalent: 3\n"
     ]
    }
   ],
   "source": [
    " #Float to Integer Conversion\n",
    "num = float(input(\"Enter a float number: \"))\n",
    "print(\"Integer equivalent:\", int(num))"
   ]
  },
  {
   "cell_type": "code",
   "execution_count": 57,
   "id": "97a17a23",
   "metadata": {},
   "outputs": [
    {
     "name": "stdout",
     "output_type": "stream",
     "text": [
      "You are 21 years old\n"
     ]
    }
   ],
   "source": [
    "# Age Display\n",
    "age = int(input(\"Enter your age: \"))\n",
    "print(f\"You are {age} years old\")"
   ]
  },
  {
   "cell_type": "code",
   "execution_count": 71,
   "id": "b9fc2a5e",
   "metadata": {},
   "outputs": [
    {
     "name": "stdout",
     "output_type": "stream",
     "text": [
      "Product: 60\n"
     ]
    }
   ],
   "source": [
    "# Product of Two Numbers\n",
    "num1 = int(input(\"Enter first number: \"))\n",
    "num2 = int(input(\"Enter second number: \"))\n",
    "product = num1 * num2\n",
    "print(\"Product:\", product)"
   ]
  },
  {
   "cell_type": "code",
   "execution_count": 84,
   "id": "3cddaafe",
   "metadata": {},
   "outputs": [
    {
     "name": "stdout",
     "output_type": "stream",
     "text": [
      "Length of the sentence: 12\n"
     ]
    }
   ],
   "source": [
    "#String Length\n",
    "sentence = input(\"Enter a sentence: \")\n",
    "print(\"Length of the sentence:\", len(sentence))"
   ]
  },
  {
   "cell_type": "code",
   "execution_count": 96,
   "id": "3ec78cc6",
   "metadata": {},
   "outputs": [
    {
     "name": "stdout",
     "output_type": "stream",
     "text": [
      "Average of three numbers: 30.333333333333332\n"
     ]
    }
   ],
   "source": [
    "#Average of Three Numbers\n",
    "num1 = float(input(\"Enter first number: \"))\n",
    "num2 = float(input(\"Enter second number: \"))\n",
    "num3 = float(input(\"Enter third number: \"))\n",
    "\n",
    "average = (num1 + num2 + num3) / 3\n",
    "print(\"Average of three numbers:\", average)\n"
   ]
  },
  {
   "cell_type": "code",
   "execution_count": 107,
   "id": "9cd05de1",
   "metadata": {},
   "outputs": [
    {
     "name": "stdout",
     "output_type": "stream",
     "text": [
      "Absolute value: 26.0\n"
     ]
    }
   ],
   "source": [
    "#Absolute Value\n",
    "num = float(input(\"Enter a number: \"))\n",
    "print(\"Absolute value:\", abs(num))"
   ]
  },
  {
   "cell_type": "code",
   "execution_count": 117,
   "id": "84961911",
   "metadata": {},
   "outputs": [
    {
     "name": "stdout",
     "output_type": "stream",
     "text": [
      "Difference: 31.0\n"
     ]
    }
   ],
   "source": [
    "# Difference of Two Numbers\n",
    "num1 = float(input(\"Enter first number: \"))\n",
    "num2 = float(input(\"Enter second number: \"))\n",
    "print(\"Difference:\", num1 - num2)"
   ]
  },
  {
   "cell_type": "code",
   "execution_count": 126,
   "id": "504ab33c",
   "metadata": {},
   "outputs": [
    {
     "name": "stdout",
     "output_type": "stream",
     "text": [
      "Reversed string: ihur\n"
     ]
    }
   ],
   "source": [
    "# String Reversal\n",
    "text = input(\"Enter a string: \")\n",
    "print(\"Reversed string:\", text[::-1])\n"
   ]
  },
  {
   "cell_type": "code",
   "execution_count": 134,
   "id": "7d2d85df",
   "metadata": {},
   "outputs": [
    {
     "name": "stdout",
     "output_type": "stream",
     "text": [
      "Height in meters: 0.0212\n"
     ]
    }
   ],
   "source": [
    "# Height Conversion\n",
    "height_cm = float(input(\"Enter height in cm: \"))\n",
    "height_m = height_cm / 100\n",
    "print(\"Height in meters:\", height_m)"
   ]
  },
  {
   "cell_type": "code",
   "execution_count": 141,
   "id": "3a515883",
   "metadata": {},
   "outputs": [
    {
     "name": "stdout",
     "output_type": "stream",
     "text": [
      "Quotient: 1.0\n"
     ]
    }
   ],
   "source": [
    "#Quotient of Two Numbers\n",
    "num1 = float(input(\"Enter first number: \"))\n",
    "num2 = float(input(\"Enter second number: \"))\n",
    "print(\"Quotient:\", num1 / num2)"
   ]
  },
  {
   "cell_type": "code",
   "execution_count": 147,
   "id": "cec8c295",
   "metadata": {},
   "outputs": [
    {
     "name": "stdout",
     "output_type": "stream",
     "text": [
      "\"ruhi\"\n"
     ]
    }
   ],
   "source": [
    "#Quoted Name\n",
    "name = input(\"Enter your name: \")\n",
    "print(f'\"{name}\"')\n"
   ]
  },
  {
   "cell_type": "code",
   "execution_count": 152,
   "id": "2842a703",
   "metadata": {},
   "outputs": [
    {
     "name": "stdout",
     "output_type": "stream",
     "text": [
      "Formatted number: 12.0\n"
     ]
    }
   ],
   "source": [
    "#Formatted Number\n",
    "num = float(input(\"Enter a number: \"))\n",
    "print(\"Formatted number:\", round(num, 2))"
   ]
  },
  {
   "cell_type": "code",
   "execution_count": 156,
   "id": "e9ce444f",
   "metadata": {},
   "outputs": [
    {
     "name": "stdout",
     "output_type": "stream",
     "text": [
      "shaik ruhi\n"
     ]
    }
   ],
   "source": [
    "#String Separation\n",
    "\n",
    "str1 = input(\"Enter first string: \")\n",
    "str2 = input(\"Enter second string: \")\n",
    "\n",
    "print(f\"{str1} {str2}\")"
   ]
  },
  {
   "cell_type": "code",
   "execution_count": 161,
   "id": "37ea7442",
   "metadata": {},
   "outputs": [
    {
     "name": "stdout",
     "output_type": "stream",
     "text": [
      "Type of input: <class 'str'>\n"
     ]
    }
   ],
   "source": [
    "#Type of Input\n",
    "value = input(\"Enter something: \")\n",
    "print(\"Type of input:\", type(value))\n"
   ]
  },
  {
   "cell_type": "code",
   "execution_count": 168,
   "id": "b11decff",
   "metadata": {},
   "outputs": [],
   "source": [
    "#Sum and Product\n",
    "num1 = float(input(\"Enter first number: \"))\n",
    "num2 = float(input(\"Enter second number: \"))\n",
    "num3 = float(input(\"Enter third number: \"))\n",
    "\n",
    "sum_result = num1 + num2 + num3\n",
    "product_result = num1 * num2 * num\n"
   ]
  },
  {
   "cell_type": "code",
   "execution_count": null,
   "id": "5f4829ac",
   "metadata": {},
   "outputs": [],
   "source": []
  }
 ],
 "metadata": {
  "kernelspec": {
   "display_name": "Python 3",
   "language": "python",
   "name": "python3"
  },
  "language_info": {
   "codemirror_mode": {
    "name": "ipython",
    "version": 3
   },
   "file_extension": ".py",
   "mimetype": "text/x-python",
   "name": "python",
   "nbconvert_exporter": "python",
   "pygments_lexer": "ipython3",
   "version": "3.13.6"
  }
 },
 "nbformat": 4,
 "nbformat_minor": 5
}
