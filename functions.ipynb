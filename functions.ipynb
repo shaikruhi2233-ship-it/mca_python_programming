{
 "cells": [
  {
   "cell_type": "code",
   "execution_count": null,
   "id": "57c9d3d8",
   "metadata": {},
   "outputs": [
    {
     "name": "stdout",
     "output_type": "stream",
     "text": [
      "☀️☀️☀️☀️☀️\n",
      "Good Morning\n",
      "☀️☀️☀️☀️☀️\n"
     ]
    }
   ],
   "source": [
    "#non returning non parameterized functions\n",
    "def greeting():\n",
    "    print(\"☀️\"*5)\n",
    "    print(\"Good Morning\")\n",
    "    print(\"☀️\"*5)\n",
    "greeting()"
   ]
  },
  {
   "cell_type": "code",
   "execution_count": null,
   "id": "df339631",
   "metadata": {},
   "outputs": [
    {
     "name": "stdout",
     "output_type": "stream",
     "text": [
      "👋\n",
      "👌\n",
      "👑\n",
      "👌\n"
     ]
    }
   ],
   "source": [
    "#value returning functions\n",
    "def dice_roll():\n",
    "    import random\n",
    "    out={1:'👍',2:'✌️',3:'👌',4:'🍀',5:'👋',6:'👑'}\n",
    "    value=random.randint(1,6)  #select a random number between 1-6\n",
    "    return out.get(value)#return the icon from the dict using value\n",
    "\n",
    "print(dice_roll())\n",
    "print(dice_roll())\n",
    "print(dice_roll())\n",
    "print(dice_roll())\n"
   ]
  },
  {
   "cell_type": "code",
   "execution_count": 17,
   "id": "bc455f24",
   "metadata": {},
   "outputs": [
    {
     "name": "stdout",
     "output_type": "stream",
     "text": [
      "False\n",
      "True\n",
      "True\n",
      "False\n"
     ]
    }
   ],
   "source": [
    "#parameterized value returning function\n",
    "def is_valid_password(pwd):\n",
    "    if len(pwd)<8:return False\n",
    "    if not pwd.isalnum():return False\n",
    "    return True\n",
    "\n",
    "print(is_valid_password(\"hello\"))\n",
    "print(is_valid_password(\"helloworld\"))\n",
    "print(is_valid_password(\"helloworld10\"))\n",
    "print(is_valid_password(\"3120@1233\"))"
   ]
  },
  {
   "cell_type": "code",
   "execution_count": 13,
   "id": "c7375100",
   "metadata": {},
   "outputs": [
    {
     "name": "stdout",
     "output_type": "stream",
     "text": [
      "area=180\n"
     ]
    }
   ],
   "source": [
    "#proper function syntax in python\n",
    "def area(length:int,breadth:int)->int:\n",
    "    return length*breadth\n",
    "l=12\n",
    "b=15\n",
    "a=area(l,b)\n",
    "print(f'area={a}')\n"
   ]
  },
  {
   "cell_type": "code",
   "execution_count": 16,
   "id": "c3049c4c",
   "metadata": {},
   "outputs": [
    {
     "name": "stdout",
     "output_type": "stream",
     "text": [
      "hell0\n",
      "Hi\n"
     ]
    }
   ],
   "source": [
    "#default args\n",
    "def cleantext(data,to_remove=\"@$#%\"):\n",
    "    newdata=data                  #make a copy of data   \n",
    "    for char in to_remove:         #loop of each char to remove\n",
    "        newdata=newdata.replace(char,'')           #use replace to remove char\n",
    "    return newdata                                  #return new data\n",
    "\n",
    "cText=cleantext(\"he#ll#0@\")                         #default chars used for removing\n",
    "print(cText)\n",
    "cText2=cleantext(\"H@!()#!)@i\",to_remove='@!#()')     #updated chars\n",
    "print(cText2)            "
   ]
  },
  {
   "cell_type": "code",
   "execution_count": 19,
   "id": "6b563c19",
   "metadata": {},
   "outputs": [
    {
     "data": {
      "text/plain": [
       "26"
      ]
     },
     "execution_count": 19,
     "metadata": {},
     "output_type": "execute_result"
    }
   ],
   "source": [
    "def add100(a,b,c,d,e,f,g,h,i,j,k,l,m,n,o,p,q,r,s,t,u,v,w,x,y,z):\n",
    "    return a+b+c+d+e+f+g+h+i+j+k+l+m+n+o+p+q+r+s+t+u+v+w+x+y+z\n",
    "add100(1,1,1,1,1,1,1,1,1,1,1,1,1,1,1,1,1,1,1,1,1,1,1,1,1,1)\n",
    "\n"
   ]
  },
  {
   "cell_type": "markdown",
   "id": "263bd122",
   "metadata": {},
   "source": [
    "## variable arguments in python\n",
    "a function cann have variable arguments in python using * symbol before  a parameter in the function defination.this allpws the function to accept any number of positional arguments as a tuple"
   ]
  },
  {
   "cell_type": "code",
   "execution_count": 21,
   "id": "909b60ae",
   "metadata": {},
   "outputs": [
    {
     "name": "stdout",
     "output_type": "stream",
     "text": [
      "1\n",
      "24\n",
      "1612800\n",
      "15\n"
     ]
    }
   ],
   "source": [
    "# a function that can multiply n parameters\n",
    "def multiplier (*numbers):\n",
    "    result=1\n",
    "    for value in numbers:\n",
    "        result*=value\n",
    "    return result\n",
    "\n",
    "print(multiplier())\n",
    "print(multiplier(2,3,4))\n",
    "print(multiplier(2,3,4,5,6,1,2,2,5,56,2))    \n",
    "print(multiplier(3,5))"
   ]
  },
  {
   "cell_type": "code",
   "execution_count": 24,
   "id": "a967119d",
   "metadata": {},
   "outputs": [
    {
     "name": "stdout",
     "output_type": "stream",
     "text": [
      "24\n",
      "None\n",
      "wrong operator give,please provide +or *\n"
     ]
    }
   ],
   "source": [
    "def operate(*args,operator=\"*\"):\n",
    "    if operator=='*':\n",
    "        result=1\n",
    "        for num in args:\n",
    "            result*=num\n",
    "        return result\n",
    "    elif operator=='+':\n",
    "        result=1\n",
    "        for num in args:\n",
    "            result+=num\n",
    "        result+=num\n",
    "    else:\n",
    "        return \"wrong operator give,please provide +or *\"\n",
    "    \n",
    "print(operate(1,2,3,4))     #default multiply values\n",
    "print(operate(1,2,3,4,operator='+'))\n",
    "print(operate(1,2,3,4,operator='-'))\n",
    "   \n",
    "        "
   ]
  },
  {
   "cell_type": "markdown",
   "id": "dfc5d952",
   "metadata": {},
   "source": [
    "anonymous function in python\n",
    "anonymous functions,also known as"
   ]
  },
  {
   "cell_type": "code",
   "execution_count": null,
   "id": "a87ebe3a",
   "metadata": {},
   "outputs": [
    {
     "name": "stdout",
     "output_type": "stream",
     "text": [
      "<function <lambda> at 0x000002C9176BC860>\n"
     ]
    }
   ],
   "source": [
    "f=lambda x:x*2+10   # x is a parameter here\n",
    "print(f)"
   ]
  },
  {
   "cell_type": "code",
   "execution_count": 26,
   "id": "70b3c5ad",
   "metadata": {},
   "outputs": [
    {
     "name": "stdout",
     "output_type": "stream",
     "text": [
      "14\n",
      "20\n",
      "30\n"
     ]
    }
   ],
   "source": [
    "print(f(2))\n",
    "print(f(5))\n",
    "print(f(10))"
   ]
  },
  {
   "cell_type": "code",
   "execution_count": 27,
   "id": "5f304979",
   "metadata": {},
   "outputs": [
    {
     "name": "stdout",
     "output_type": "stream",
     "text": [
      "18\n",
      "65\n"
     ]
    }
   ],
   "source": [
    "g=lambda x,y: x*y+x+10   #x and y are 2 parameters\n",
    "print(g(2,3))\n",
    "print(g(5,10))"
   ]
  },
  {
   "cell_type": "markdown",
   "id": "54c81427",
   "metadata": {},
   "source": [
    "### Generators or lazy functions\n",
    "special type of function that will not evaluate and return all values at once,instead it will return one value at a time,and only when required.\n"
   ]
  },
  {
   "cell_type": "code",
   "execution_count": 28,
   "id": "6c0a38ca",
   "metadata": {},
   "outputs": [
    {
     "name": "stdout",
     "output_type": "stream",
     "text": [
      "1\n",
      "2\n",
      "3\n",
      "4\n",
      "5\n",
      "[1, 2, 3, 4, 5, 6, 7, 8, 9]\n"
     ]
    }
   ],
   "source": [
    "for i in range(1,6):print(i)\n",
    "print(list(range(1,10)))"
   ]
  },
  {
   "cell_type": "code",
   "execution_count": 35,
   "id": "a53ecaca",
   "metadata": {},
   "outputs": [
    {
     "name": "stdout",
     "output_type": "stream",
     "text": [
      "square 4\n",
      "square 9\n",
      "square 9\n",
      "square 25\n",
      "square 36\n",
      "square 49\n",
      "[484, 1089, 3025]\n"
     ]
    }
   ],
   "source": [
    "#creating a generator (use yield instead of return)\n",
    "def squared(data):\n",
    "    for i in data:\n",
    "        yield i**2\n",
    "#squared(data=[1,2,3,4,5,6,7,8])   #this will not give you result\n",
    "#this is how we use generator (getting 1 value at a time)\n",
    "for num in squared([2,3,3,5,6,7]):\n",
    "    print(\"square\",num)\n",
    "  #or\n",
    "print(list(squared([22,33,55])))    #this calculates and convert all values\n"
   ]
  },
  {
   "cell_type": "code",
   "execution_count": null,
   "id": "0eb1211f",
   "metadata": {},
   "outputs": [],
   "source": []
  }
 ],
 "metadata": {
  "kernelspec": {
   "display_name": "Python 3",
   "language": "python",
   "name": "python3"
  },
  "language_info": {
   "codemirror_mode": {
    "name": "ipython",
    "version": 3
   },
   "file_extension": ".py",
   "mimetype": "text/x-python",
   "name": "python",
   "nbconvert_exporter": "python",
   "pygments_lexer": "ipython3",
   "version": "3.13.6"
  }
 },
 "nbformat": 4,
 "nbformat_minor": 5
}
