{
 "cells": [
  {
   "cell_type": "code",
   "execution_count": null,
   "id": "9ca114f3",
   "metadata": {},
   "outputs": [
    {
     "name": "stdout",
     "output_type": "stream",
     "text": [
      "sum: 20\n"
     ]
    }
   ],
   "source": [
    "#sum os numbers\n",
    "n=int(input(\"enter number of integer:\"))\n",
    "numbers=list(map(int,input(\"enter the numbers:\").split()))\n",
    "total=sum(numbers)\n",
    "print(\"sum:\",total)"
   ]
  },
  {
   "cell_type": "code",
   "execution_count": null,
   "id": "83d07930",
   "metadata": {},
   "outputs": [
    {
     "name": "stdout",
     "output_type": "stream",
     "text": [
      "avaerage:2.00\n"
     ]
    }
   ],
   "source": [
    "#average of N numbers\n",
    "N=int(input(\"enter the integer:\"))\n",
    "numbers=list(map(int,input(\"enter the integer:\").split()))\n",
    "average=sum(numbers)/N \n",
    "print(f\"avaerage:{average:.2f}\")"
   ]
  },
  {
   "cell_type": "code",
   "execution_count": null,
   "id": "9b572d38",
   "metadata": {},
   "outputs": [
    {
     "name": "stdout",
     "output_type": "stream",
     "text": [
      "reversed string: IHUR\n"
     ]
    }
   ],
   "source": [
    "#reverse a string\n",
    "s=input(\"enter a string:\")\n",
    "reversed_s=s[::-1]\n",
    "print(\"reversed string:\",reversed_s)"
   ]
  },
  {
   "cell_type": "code",
   "execution_count": 2,
   "id": "af8697b8",
   "metadata": {},
   "outputs": [
    {
     "name": "stdout",
     "output_type": "stream",
     "text": [
      "number of vowels: 3\n",
      "number of consonants: 7\n"
     ]
    }
   ],
   "source": [
    "#count vowels and consonents\n",
    "string=input(\"enter a string:\").lower()\n",
    "vowels=0\n",
    "consonants=0\n",
    "for char in string:\n",
    "    if char.isalpha():\n",
    "        if char in 'aeiou':\n",
    "            vowels+=1\n",
    "        else:\n",
    "            consonants+=1\n",
    "print(\"number of vowels:\",vowels)\n",
    "print(\"number of consonants:\",consonants)                "
   ]
  },
  {
   "cell_type": "code",
   "execution_count": 8,
   "id": "6632dca3",
   "metadata": {},
   "outputs": [
    {
     "name": "stdout",
     "output_type": "stream",
     "text": [
      "not palindrome\n"
     ]
    }
   ],
   "source": [
    "#number of palindrome check\n",
    "n=int(input(\"enter a number:\"))\n",
    "rev=int(str(n)[::-1])\n",
    "if n==rev:\n",
    "    print(\"palindrome\")\n",
    "else:\n",
    "    print(\"not palindrome\")    "
   ]
  },
  {
   "cell_type": "code",
   "execution_count": 9,
   "id": "2dd0dd0b",
   "metadata": {},
   "outputs": [
    {
     "name": "stdout",
     "output_type": "stream",
     "text": [
      "*\n",
      "**\n",
      "***\n",
      "****\n"
     ]
    }
   ],
   "source": [
    "#left star pyramid\n",
    "n=int(input())\n",
    "for i in range(1,n+1):\n",
    "    print(\"*\"*i)\n"
   ]
  },
  {
   "cell_type": "code",
   "execution_count": 10,
   "id": "1339dc0d",
   "metadata": {},
   "outputs": [
    {
     "name": "stdout",
     "output_type": "stream",
     "text": [
      "5\n"
     ]
    }
   ],
   "source": [
    "#count digits in a number\n",
    "n=int(input())\n",
    "count=len(str(n))\n",
    "print(count)"
   ]
  },
  {
   "cell_type": "code",
   "execution_count": null,
   "id": "d7ff9ff0",
   "metadata": {},
   "outputs": [
    {
     "name": "stdout",
     "output_type": "stream",
     "text": [
      "720\n"
     ]
    }
   ],
   "source": [
    "#factorial\n",
    "n=int(input())\n",
    "fact=1\n",
    "for i in range(1,n+1):\n",
    "    fact*=i\n",
    "print(fact)"
   ]
  },
  {
   "cell_type": "code",
   "execution_count": 16,
   "id": "0b1a31bf",
   "metadata": {},
   "outputs": [
    {
     "name": "stdout",
     "output_type": "stream",
     "text": [
      "1\n",
      "1\n",
      "2\n",
      "3\n",
      "5\n"
     ]
    }
   ],
   "source": [
    "#fibonacci\n",
    "n=int(input())\n",
    "a,b=0,1\n",
    "for i in range(n):\n",
    "    a,b=b,a+b\n",
    "    print(a)   "
   ]
  },
  {
   "cell_type": "code",
   "execution_count": 21,
   "id": "41d030c1",
   "metadata": {},
   "outputs": [
    {
     "name": "stdout",
     "output_type": "stream",
     "text": [
      "Prime\n"
     ]
    }
   ],
   "source": [
    "#prime check\n",
    "n = int(input())\n",
    "\n",
    "if n <= 1:\n",
    "    print(\"Not Prime\")\n",
    "else:\n",
    "    for i in range(2, int(n**0.5) + 1):\n",
    "        if n % i == 0:\n",
    "            print(\"Not Prime\")\n",
    "            break\n",
    "    else:\n",
    "        print(\"Prime\")\n",
    "  "
   ]
  },
  {
   "cell_type": "code",
   "execution_count": 37,
   "id": "e22cfefc",
   "metadata": {},
   "outputs": [
    {
     "name": "stdout",
     "output_type": "stream",
     "text": [
      "9 1\n"
     ]
    }
   ],
   "source": [
    "#max and min\n",
    "lst = [3,7,1,9,4]\n",
    "\n",
    "maximum = max(lst)\n",
    "minimum = min(lst)\n",
    "\n",
    "print(maximum, minimum)"
   ]
  },
  {
   "cell_type": "code",
   "execution_count": 40,
   "id": "1ee6df0e",
   "metadata": {},
   "outputs": [
    {
     "name": "stdout",
     "output_type": "stream",
     "text": [
      "[1, 2, 5, 7, 9]\n"
     ]
    }
   ],
   "source": [
    "#sort list\n",
    "numbers=[5,2,9,1,7]\n",
    "numbers.sort()\n",
    "print(numbers)"
   ]
  },
  {
   "cell_type": "code",
   "execution_count": 41,
   "id": "d5215ef8",
   "metadata": {},
   "outputs": [
    {
     "name": "stdout",
     "output_type": "stream",
     "text": [
      "[1, 2, 3, 4, 5, 6]\n"
     ]
    }
   ],
   "source": [
    "#merge sorted lists\n",
    "list1=[1,3,5]\n",
    "list2=[2,4,6]\n",
    "merged=sorted(list1+list2)\n",
    "print(merged)"
   ]
  },
  {
   "cell_type": "code",
   "execution_count": null,
   "id": "d7a6f073",
   "metadata": {},
   "outputs": [],
   "source": [
    "#intersection\n",
    "list1=[1,2,3,4]\n",
    "list2=[3,4,5,6]\n",
    "intersection=list(set(list1)&set(list2))\n",
    "print(intersection)"
   ]
  },
  {
   "cell_type": "code",
   "execution_count": 1,
   "id": "08802891",
   "metadata": {},
   "outputs": [
    {
     "name": "stdout",
     "output_type": "stream",
     "text": [
      "[1, 2, 5, 5, 6, 9]\n"
     ]
    }
   ],
   "source": [
    "lst = [5, 2, 9, 1, 5, 6]\n",
    "lst.sort()\n",
    "print(lst)"
   ]
  },
  {
   "cell_type": "code",
   "execution_count": 2,
   "id": "40937d80",
   "metadata": {},
   "outputs": [
    {
     "name": "stdout",
     "output_type": "stream",
     "text": [
      "[1, 2, 3, 4, 5, 6]\n"
     ]
    }
   ],
   "source": [
    "#union\n",
    "list1 = [1, 2, 3, 4]\n",
    "list2 = [3, 4, 5, 6]\n",
    "\n",
    "union = list(set(list1) | set(list2))\n",
    "print(union)"
   ]
  },
  {
   "cell_type": "code",
   "execution_count": 4,
   "id": "e598396d",
   "metadata": {},
   "outputs": [
    {
     "name": "stdout",
     "output_type": "stream",
     "text": [
      "a= 10 b= 5\n"
     ]
    }
   ],
   "source": [
    "a=5\n",
    "b=10\n",
    "a,b=b,a\n",
    "print(\"a=\",a,\"b=\",b)\n"
   ]
  },
  {
   "cell_type": "code",
   "execution_count": 5,
   "id": "9732ff27",
   "metadata": {},
   "outputs": [
    {
     "name": "stdout",
     "output_type": "stream",
     "text": [
      "Python Is Fun\n"
     ]
    }
   ],
   "source": [
    " sentence=\"python is fun\" \n",
    " print(sentence.title())"
   ]
  },
  {
   "cell_type": "code",
   "execution_count": 6,
   "id": "aa30f417",
   "metadata": {},
   "outputs": [
    {
     "name": "stdout",
     "output_type": "stream",
     "text": [
      "LCM: 5\n"
     ]
    }
   ],
   "source": [
    "import math\n",
    "a=12\n",
    "b=15\n",
    "lcm=(1*b)//math.gcd(a,b)\n",
    "print(\"LCM:\",lcm)"
   ]
  },
  {
   "cell_type": "code",
   "execution_count": 8,
   "id": "d5a224a8",
   "metadata": {},
   "outputs": [
    {
     "name": "stdout",
     "output_type": "stream",
     "text": [
      "10\n"
     ]
    }
   ],
   "source": [
    "binary=\"1010\"\n",
    "decimal=int(binary,2)\n",
    "print(decimal)"
   ]
  },
  {
   "cell_type": "code",
   "execution_count": 9,
   "id": "39a8bc6a",
   "metadata": {},
   "outputs": [
    {
     "name": "stdout",
     "output_type": "stream",
     "text": [
      "1010\n"
     ]
    }
   ],
   "source": [
    "num=10\n",
    "print(f\"{num:b}\")"
   ]
  },
  {
   "cell_type": "code",
   "execution_count": 12,
   "id": "3eab1e09",
   "metadata": {},
   "outputs": [
    {
     "name": "stdout",
     "output_type": "stream",
     "text": [
      "anagram\n"
     ]
    }
   ],
   "source": [
    "s1=\"listen\"\n",
    "s2=\"silent\"\n",
    "if sorted(s1)==sorted(s2):\n",
    "    print(\"anagram\")\n",
    "else:\n",
    "    print(\"not anagram\")"
   ]
  },
  {
   "cell_type": "code",
   "execution_count": 14,
   "id": "69944203",
   "metadata": {},
   "outputs": [
    {
     "name": "stdout",
     "output_type": "stream",
     "text": [
      "Second largest: 7\n"
     ]
    }
   ],
   "source": [
    "lst = [4, 2, 9, 7, 9, 4]\n",
    "unique = list(set(lst))\n",
    "unique.sort()\n",
    "print(\"Second largest:\",unique[-2])"
   ]
  },
  {
   "cell_type": "code",
   "execution_count": 15,
   "id": "7191ee99",
   "metadata": {},
   "outputs": [
    {
     "ename": "ModuleNotFoundError",
     "evalue": "No module named 'numpy'",
     "output_type": "error",
     "traceback": [
      "\u001b[31m---------------------------------------------------------------------------\u001b[39m",
      "\u001b[31mModuleNotFoundError\u001b[39m                       Traceback (most recent call last)",
      "\u001b[36mCell\u001b[39m\u001b[36m \u001b[39m\u001b[32mIn[15]\u001b[39m\u001b[32m, line 1\u001b[39m\n\u001b[32m----> \u001b[39m\u001b[32m1\u001b[39m \u001b[38;5;28;01mimport\u001b[39;00m\u001b[38;5;250m \u001b[39m\u001b[34;01mnumpy\u001b[39;00m\u001b[38;5;250m \u001b[39m\u001b[38;5;28;01mas\u001b[39;00m\u001b[38;5;250m \u001b[39m\u001b[34;01mnp\u001b[39;00m\n\u001b[32m      3\u001b[39m matrix = np.array([\n\u001b[32m      4\u001b[39m     [\u001b[32m1\u001b[39m, \u001b[32m2\u001b[39m, \u001b[32m3\u001b[39m],\n\u001b[32m      5\u001b[39m     [\u001b[32m4\u001b[39m, \u001b[32m5\u001b[39m, \u001b[32m6\u001b[39m]\n\u001b[32m      6\u001b[39m ])\n\u001b[32m      8\u001b[39m transpose = matrix.T\n",
      "\u001b[31mModuleNotFoundError\u001b[39m: No module named 'numpy'"
     ]
    }
   ],
   "source": [
    "import numpy as np\n",
    "\n",
    "matrix = np.array([\n",
    "    [1, 2, 3],\n",
    "    [4, 5, 6]\n",
    "])\n",
    "\n",
    "transpose = matrix.T\n",
    "print(\"Transpose:\\n\",transpose)\n"
   ]
  },
  {
   "cell_type": "code",
   "execution_count": null,
   "id": "00c4dafc",
   "metadata": {},
   "outputs": [],
   "source": []
  }
 ],
 "metadata": {
  "kernelspec": {
   "display_name": "Python 3",
   "language": "python",
   "name": "python3"
  },
  "language_info": {
   "codemirror_mode": {
    "name": "ipython",
    "version": 3
   },
   "file_extension": ".py",
   "mimetype": "text/x-python",
   "name": "python",
   "nbconvert_exporter": "python",
   "pygments_lexer": "ipython3",
   "version": "3.13.6"
  }
 },
 "nbformat": 4,
 "nbformat_minor": 5
}
