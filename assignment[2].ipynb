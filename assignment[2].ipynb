{
 "cells": [
  {
   "cell_type": "code",
   "execution_count": 4,
   "id": "84852c4a",
   "metadata": {},
   "outputs": [
    {
     "name": "stdout",
     "output_type": "stream",
     "text": [
      "Mohan Babu University\n",
      "Mohan Babu University\n",
      "Mohan\n",
      "          Babu\n",
      "          University\n"
     ]
    }
   ],
   "source": [
    "#string creations and basic operations\n",
    "string1='Mohan Babu University'\n",
    "string2=\"Mohan Babu University\"\n",
    "string3='''Mohan\n",
    "          Babu\n",
    "          University'''\n",
    "print(string1)\n",
    "print(string2)\n",
    "print(string3)"
   ]
  },
  {
   "cell_type": "code",
   "execution_count": 8,
   "id": "98ea475b",
   "metadata": {},
   "outputs": [
    {
     "name": "stdout",
     "output_type": "stream",
     "text": [
      "first character: P\n",
      "last_character: N\n",
      "middle character: H\n"
     ]
    }
   ],
   "source": [
    "#string indexing\n",
    "string=input(\"enter a string:\")\n",
    "first_char=string[0]\n",
    "last_char=string[-1]\n",
    "middle_char=string[3]\n",
    "print(\"first character:\",first_char)\n",
    "print(\"last_character:\",last_char)\n",
    "print(\"middle character:\",middle_char)"
   ]
  },
  {
   "cell_type": "code",
   "execution_count": 13,
   "id": "54a3e828",
   "metadata": {},
   "outputs": [
    {
     "name": "stdout",
     "output_type": "stream",
     "text": [
      "first 5 characters; pytho\n",
      "last 5 characters; mming\n",
      "every second character: pto rgamn\n"
     ]
    }
   ],
   "source": [
    "#string slicing\n",
    "sentence=\"python programming\"\n",
    "first_five=sentence[:5]\n",
    "last_five=sentence[-5:]\n",
    "every_second=sentence[::2]\n",
    "print(\"first 5 characters;\",first_five)\n",
    "print(\"last 5 characters;\",last_five)\n",
    "print(\"every second character:\",every_second)\n"
   ]
  },
  {
   "cell_type": "code",
   "execution_count": 14,
   "id": "166a08a9",
   "metadata": {},
   "outputs": [
    {
     "name": "stdout",
     "output_type": "stream",
     "text": [
      "Error: 'str' object does not support item assignment\n",
      "Original string: Hello\n",
      "New string: Jello\n"
     ]
    }
   ],
   "source": [
    "text = \"Hello\"\n",
    "\n",
    "\n",
    "try:\n",
    "    text[0] = 'J'  \n",
    "except TypeError as e:\n",
    "    print(\"Error:\", e)\n",
    "\n",
    "\n",
    "new_text = 'J' + text[1:]\n",
    "\n",
    "print(\"Original string:\", text)\n",
    "print(\"New string:\", new_text)\n"
   ]
  },
  {
   "cell_type": "code",
   "execution_count": null,
   "id": "25b4ca64",
   "metadata": {},
   "outputs": [
    {
     "name": "stdout",
     "output_type": "stream",
     "text": [
      "uppercase: HELLO\n",
      "lowercase: hello\n"
     ]
    }
   ],
   "source": [
    "#uppercase and lowercase\n",
    "string=input(\"enter a string\")\n",
    "print(\"uppercase:\",text.upper())\n",
    "print(\"lowercase:\",text.lower())\n"
   ]
  },
  {
   "cell_type": "code",
   "execution_count": 20,
   "id": "9d6b8b2c",
   "metadata": {},
   "outputs": [
    {
     "name": "stdout",
     "output_type": "stream",
     "text": [
      "the substring is found at position:7\n"
     ]
    }
   ],
   "source": [
    "#find substring\n",
    "main_string=input(\"enter the main string:\")\n",
    "substring=input(\"enter the substring:\")\n",
    "position=main_string.find(substring)\n",
    "if position!=-1:\n",
    "    print(f\"the substring is found at position:{position}\")\n",
    "else:\n",
    "    print(\"substring not found in the mainstring.\")    \n"
   ]
  },
  {
   "cell_type": "code",
   "execution_count": 22,
   "id": "d2bdc319",
   "metadata": {},
   "outputs": [
    {
     "name": "stdout",
     "output_type": "stream",
     "text": [
      "updated sentence: this is my new book\n"
     ]
    }
   ],
   "source": [
    "#replace words\n",
    "sentence=\"this is my old book\"\n",
    "update_sentence=sentence.replace(\"old\",\"new\")\n",
    "print(\"updated sentence:\",update_sentence)"
   ]
  },
  {
   "cell_type": "code",
   "execution_count": 2,
   "id": "7b5487c6",
   "metadata": {},
   "outputs": [
    {
     "name": "stdout",
     "output_type": "stream",
     "text": [
      "string after joining eith spaces: apple banana orange\n"
     ]
    }
   ],
   "source": [
    "#split and join\n",
    "text=input(\"enter a comma-seperated string:\")\n",
    "words=text.split(\",\")\n",
    "result=\" \".join(words)\n",
    "print(\"string after joining eith spaces:\",result)\n"
   ]
  },
  {
   "cell_type": "code",
   "execution_count": 3,
   "id": "87430772",
   "metadata": {},
   "outputs": [
    {
     "name": "stdout",
     "output_type": "stream",
     "text": [
      "list of numbers: [10, 20, 30, 40, 50]\n",
      "first element: 10\n",
      "last element: 50\n"
     ]
    }
   ],
   "source": [
    "#list creation and access\n",
    "numbers=[10,20,30,40,50]\n",
    "print(\"list of numbers:\",numbers)\n",
    "print(\"first element:\",numbers[0])\n",
    "print(\"last element:\",numbers[-1])"
   ]
  },
  {
   "cell_type": "code",
   "execution_count": 4,
   "id": "8ba52e23",
   "metadata": {},
   "outputs": [
    {
     "name": "stdout",
     "output_type": "stream",
     "text": [
      "original list: ['apple', 'papaya', 'mango']\n",
      "after removing an element: ['apple', 'mango']\n",
      "after adding an element: ['apple', 'mango', 'orange']\n",
      "after modifying an element: ['cherry', 'mango', 'orange']\n"
     ]
    }
   ],
   "source": [
    "#list modification\n",
    "fruits=[\"apple\",\"papaya\",\"mango\"]\n",
    "print(\"original list:\",fruits)\n",
    "fruits.remove(\"papaya\")\n",
    "print(\"after removing an element:\",fruits)\n",
    "fruits.append(\"orange\")\n",
    "print(\"after adding an element:\",fruits)\n",
    "fruits[0]=\"cherry\"\n",
    "print(\"after modifying an element:\",fruits)\n"
   ]
  },
  {
   "cell_type": "code",
   "execution_count": 6,
   "id": "b21328de",
   "metadata": {},
   "outputs": [
    {
     "name": "stdout",
     "output_type": "stream",
     "text": [
      "original list: [1, 2, 3, 4, 5, 6, 7, 8, 9, 10]\n",
      "numbers[2:5]:,numbers[2:5]\n",
      "numbers[::2]: [1, 3, 5, 7, 9]\n",
      "numbers[::-1]: [10, 9, 8, 7, 6, 5, 4, 3, 2, 1]\n",
      "numbers[4:]: [5, 6, 7, 8, 9, 10]\n"
     ]
    }
   ],
   "source": [
    "#list slicing\n",
    "numbers=[1,2,3,4,5,6,7,8,9,10]\n",
    "print(\"original list:\",numbers)\n",
    "print(\"numbers[2:5]:,numbers[2:5]\")\n",
    "print(\"numbers[::2]:\",numbers[::2])\n",
    "print(\"numbers[::-1]:\",numbers[::-1])\n",
    "print(\"numbers[4:]:\",numbers[4:])"
   ]
  },
  {
   "cell_type": "code",
   "execution_count": 7,
   "id": "81f3f058",
   "metadata": {},
   "outputs": [
    {
     "name": "stdout",
     "output_type": "stream",
     "text": [
      "original dictionary: {'name': 'Ruhi', 'age': 20, 'grade': 'B'}\n",
      "after adding new key-value pair: {'name': 'Ruhi', 'age': 20, 'grade': 'B', 'course': 'computer science'}\n",
      "after modifying existing value: {'name': 'Ruhi', 'age': 20, 'grade': 'A', 'course': 'computer science'}\n"
     ]
    }
   ],
   "source": [
    "#dictionary operations\n",
    "student={\n",
    "    \"name\":\"Ruhi\",\n",
    "    \"age\":20,\n",
    "    \"grade\":\"B\"\n",
    "    }\n",
    "print(\"original dictionary:\",student)\n",
    "student[\"course\"]=\"computer science\"\n",
    "print(\"after adding new key-value pair:\",student)\n",
    "student[\"grade\"]=\"A\"\n",
    "print(\"after modifying existing value:\",student)"
   ]
  },
  {
   "cell_type": "code",
   "execution_count": 9,
   "id": "37d4982e",
   "metadata": {},
   "outputs": [
    {
     "name": "stdout",
     "output_type": "stream",
     "text": [
      "keys: dict_keys(['name', 'age', 'course'])\n",
      "values: dict_values(['varsha', 20, 'computer applications'])\n",
      "items: dict_items([('name', 'varsha'), ('age', 20), ('course', 'computer applications')])\n"
     ]
    }
   ],
   "source": [
    "#dictionary methods\n",
    "student={\n",
    "    \"name\":\"varsha\",\n",
    "    \"age\":20,\n",
    "    \"course\":\"computer applications\"\n",
    "}\n",
    "print(\"keys:\",student.keys())\n",
    "print(\"values:\",student.values())\n",
    "print(\"items:\",student.items())"
   ]
  },
  {
   "cell_type": "code",
   "execution_count": 4,
   "id": "f4e906ef",
   "metadata": {},
   "outputs": [
    {
     "name": "stdout",
     "output_type": "stream",
     "text": [
      "set1: {1, 2, 3}\n",
      "set2: {4, 5, 6, 7, 8}\n",
      "union: {1, 2, 3, 4, 5, 6, 7, 8}\n",
      "intersection: {4, 5}\n",
      "difference: {1, 2, 3}\n"
     ]
    }
   ],
   "source": [
    "#set operations\n",
    "set1 = {1, 2, 3, 4, 5}\n",
    "set2 = {4, 5, 6, 7, 8}\n",
    "union_set=set1|set2\n",
    "intersection_set=set1&set2\n",
    "difference_set=set1=set1-set2\n",
    "print(\"set1:\",set1)\n",
    "print(\"set2:\",set2)\n",
    "print(\"union:\",union_set)\n",
    "print(\"intersection:\",intersection_set)\n",
    "print(\"difference:\",difference_set)\n"
   ]
  },
  {
   "cell_type": "code",
   "execution_count": 5,
   "id": "e4360532",
   "metadata": {},
   "outputs": [
    {
     "name": "stdout",
     "output_type": "stream",
     "text": [
      "the sum is: 12\n"
     ]
    }
   ],
   "source": [
    "#function definition\n",
    "def add_numbers(a,b):\n",
    "    return a+b\n",
    "num1=int(input(\"enter first number:\"))\n",
    "num2=int(input(\"enter second number:\"))\n",
    "result=add_numbers(num1,num2)\n",
    "print(\"the sum is:\",result)"
   ]
  },
  {
   "cell_type": "code",
   "execution_count": 3,
   "id": "b1956963",
   "metadata": {},
   "outputs": [
    {
     "name": "stdout",
     "output_type": "stream",
     "text": [
      "hello, Ruhi!welcome to python programming\n",
      "hello, guest!welcome to python programming\n"
     ]
    }
   ],
   "source": [
    "#function with default parameters\n",
    "def greet(name=\"guest\"):\n",
    "    print(\"hello,\",name+\"!welcome to python programming\")\n",
    "greet(\"Ruhi\")\n",
    "greet()    \n",
    "    \n",
    "    "
   ]
  },
  {
   "cell_type": "code",
   "execution_count": 4,
   "id": "a848064f",
   "metadata": {},
   "outputs": [],
   "source": [
    "#Recursion-factorial\n",
    "def factorial(n):\n",
    "    if n==0 or n==1:\n",
    "        return 1\n",
    "    else:\n",
    "        return n * factorial(n-1)\n",
    "    num-int(input(\"enter a number\"))\n",
    "    print(\"factorial of\",num,\"is\",factorial(num))"
   ]
  },
  {
   "cell_type": "code",
   "execution_count": null,
   "id": "3c6d7349",
   "metadata": {},
   "outputs": [],
   "source": []
  }
 ],
 "metadata": {
  "kernelspec": {
   "display_name": "Python 3",
   "language": "python",
   "name": "python3"
  },
  "language_info": {
   "codemirror_mode": {
    "name": "ipython",
    "version": 3
   },
   "file_extension": ".py",
   "mimetype": "text/x-python",
   "name": "python",
   "nbconvert_exporter": "python",
   "pygments_lexer": "ipython3",
   "version": "3.12.3"
  }
 },
 "nbformat": 4,
 "nbformat_minor": 5
}
