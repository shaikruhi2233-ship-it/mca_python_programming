{
 "cells": [
  {
   "cell_type": "code",
   "execution_count": 6,
   "id": "14817836",
   "metadata": {},
   "outputs": [
    {
     "name": "stdout",
     "output_type": "stream",
     "text": [
      "a = 20\n",
      "b = 10\n"
     ]
    }
   ],
   "source": [
    "#swipping variables\n",
    "a = 10\n",
    "b = 20\n",
    "\n",
    "temp = a\n",
    "a = b\n",
    "b = temp\n",
    "\n",
    "print(\"a =\", a)\n",
    "print(\"b =\", b)\n"
   ]
  },
  {
   "cell_type": "code",
   "execution_count": 7,
   "id": "d49e61de",
   "metadata": {},
   "outputs": [
    {
     "name": "stdout",
     "output_type": "stream",
     "text": [
      "Result: 90\n"
     ]
    }
   ],
   "source": [
    "#simple calculator\n",
    "num1 = input(\"Enter first number: \")\n",
    "operator = input(\"Enter operator (+, -, *, /): \")\n",
    "num2 = input(\"Enter second number: \")\n",
    "\n",
    "expression = num1 + operator + num2\n",
    "\n",
    "result = eval(expression)\n",
    "\n",
    "print(\"Result:\", result)"
   ]
  },
  {
   "cell_type": "code",
   "execution_count": null,
   "id": "9058c8b3",
   "metadata": {},
   "outputs": [
    {
     "name": "stdout",
     "output_type": "stream",
     "text": [
      "2 <class 'int'>\n",
      "2.0 <class 'float'>\n"
     ]
    }
   ],
   "source": [
    "#\n",
    "num_str = input(\"Enter a number: \")\n",
    "\n",
    "num_int = int(num_str)\n",
    "num_float = float(num_str)\n",
    "\n",
    "print(num_int, type(num_int))\n",
    "print(num_float, type(num_float))"
   ]
  },
  {
   "cell_type": "code",
   "execution_count": 4,
   "id": "76dde202",
   "metadata": {},
   "outputs": [
    {
     "name": "stdout",
     "output_type": "stream",
     "text": [
      "['the way of king']\n",
      "['the way of king', 'the final empire', 'steelheart', 'legion']\n"
     ]
    }
   ],
   "source": [
    "books=[]\n",
    "#adding one item at a time\n",
    "books.append(\"the way of king\")\n",
    "print(books)\n",
    "books.append(\"the final empire\")\n",
    "books.append(\"steelheart\")\n",
    "books.append(\"legion\")\n",
    "print(books)"
   ]
  },
  {
   "cell_type": "code",
   "execution_count": null,
   "id": "bd52495d",
   "metadata": {},
   "outputs": [
    {
     "name": "stdout",
     "output_type": "stream",
     "text": [
      "['red', 'green', 'blue', 'yellow', 'black']\n",
      "['red', 'green', 'blue', 'yellow', 'black', 'puple', 'pink', 'yellow']\n"
     ]
    }
   ],
   "source": [
    "colors=['red','green','blue']\n",
    "colors.extend(['yellow','black'])\n",
    "print(colors)\n",
    "colors2=[\"puple\",\"pink\",\"yellow\"]\n",
    "colors.extend(colors2)\n",
    "print(colors)"
   ]
  },
  {
   "cell_type": "code",
   "execution_count": 13,
   "id": "63d66fbc",
   "metadata": {},
   "outputs": [
    {
     "name": "stdout",
     "output_type": "stream",
     "text": [
      "[1]\n",
      "[1, 2]\n",
      "[1, 2, 3]\n",
      "[1, 2, 3, 4]\n",
      "[1, 2, 3, 4, 5]\n",
      "[1, 2, 3, 4, 5, 6]\n",
      "[1, 2, 3, 4, 5, 6, 7]\n",
      "[1, 2, 3, 4, 5, 6, 7, 8]\n",
      "[1, 2, 3, 4, 5, 6, 7, 8, 9]\n",
      "[1, 2, 3, 4, 5, 6, 7, 8, 9, 10]\n"
     ]
    }
   ],
   "source": [
    "a=[]\n",
    "for i in range(1,11):\n",
    "    a.append(i)\n",
    "    print(a)"
   ]
  },
  {
   "cell_type": "code",
   "execution_count": null,
   "id": "1ffdb18c",
   "metadata": {},
   "outputs": [],
   "source": [
    "movies[]\n",
    "for i in range(5):\n",
    "    value=input(\"enter your five movies\")\n",
    "    "
   ]
  },
  {
   "cell_type": "code",
   "execution_count": 20,
   "id": "5459f93d",
   "metadata": {},
   "outputs": [
    {
     "name": "stdout",
     "output_type": "stream",
     "text": [
      "[1, 2, 5, 10]\n",
      "[1, 2, 3, 5, 9, 10]\n"
     ]
    }
   ],
   "source": [
    "x=[1,5,10]\n",
    "x.insert(1,2)\n",
    "print(x)\n",
    "x.insert(2,3)\n",
    "x.insert(4,9)\n",
    "print(x)"
   ]
  },
  {
   "cell_type": "markdown",
   "id": "b33aba97",
   "metadata": {},
   "source": [
    "- Adding elements\n",
    "1. append () -> add one element to the end of the list\n",
    "2. insert () -> add one element to a specific  position\n",
    "3. extend () -> append multiple items in a list\n",
    "\n",
    "- removing elements\n",
    "1. remove () -> remove the first occurance of a value\n",
    "2. pop () -> remove and return an element from an Index\n",
    "3. clear () -> remove all elements from the list"
   ]
  },
  {
   "cell_type": "code",
   "execution_count": null,
   "id": "a473e289",
   "metadata": {},
   "outputs": [
    {
     "name": "stdout",
     "output_type": "stream",
     "text": [
      "['Here of ages', 'Well of Acsension', 'War breaker', 'Nightblood', 'The final empire', 'The way of kinds', 'harrypotter', 'Wind and truth', 'King of thrones', 'oathbringer', 'goblet of fire']\n"
     ]
    }
   ],
   "source": [
    "books=['Here of ages','Well of Acsension','War breaker','Nightblood','The final empire','The way of kinds','harrypotter','Wind and truth','King of thrones','Oathbringer','New moon','goblet of fire']\n",
    "books.remove(\"New moon\")\n",
    "print(books)\n"
   ]
  },
  {
   "cell_type": "code",
   "execution_count": 11,
   "id": "509f84af",
   "metadata": {},
   "outputs": [
    {
     "name": "stdout",
     "output_type": "stream",
     "text": [
      "['Here of ages', 'Well of Acsension', 'War breaker', 'Nightblood', 'The final empire', 'The way of kinds', 'harrypotter', 'Wind and truth', 'King of thrones', 'oathbringer', 'goblet of fire']\n"
     ]
    }
   ],
   "source": [
    "#validation based removal\n",
    "if \"Oathbringer\" in books:\n",
    "    books.remove(\"Oathbringer\")\n",
    "print(books)"
   ]
  },
  {
   "cell_type": "code",
   "execution_count": 12,
   "id": "075191dc",
   "metadata": {},
   "outputs": [
    {
     "data": {
      "text/plain": [
       "'Nightblood'"
      ]
     },
     "execution_count": 12,
     "metadata": {},
     "output_type": "execute_result"
    }
   ],
   "source": [
    "books.pop(3)"
   ]
  },
  {
   "cell_type": "code",
   "execution_count": 14,
   "id": "2f8d4d53",
   "metadata": {},
   "outputs": [
    {
     "data": {
      "text/plain": [
       "'harrypotter'"
      ]
     },
     "execution_count": 14,
     "metadata": {},
     "output_type": "execute_result"
    }
   ],
   "source": [
    "books.pop(4)"
   ]
  },
  {
   "cell_type": "code",
   "execution_count": 15,
   "id": "d74264e9",
   "metadata": {},
   "outputs": [
    {
     "data": {
      "text/plain": [
       "'goblet of fire'"
      ]
     },
     "execution_count": 15,
     "metadata": {},
     "output_type": "execute_result"
    }
   ],
   "source": [
    "# pop()without any index will remove the lasts element\n",
    "books.pop()"
   ]
  },
  {
   "cell_type": "code",
   "execution_count": 16,
   "id": "5f47905f",
   "metadata": {},
   "outputs": [],
   "source": [
    "books.clear()"
   ]
  },
  {
   "cell_type": "code",
   "execution_count": 19,
   "id": "8c7d3da4",
   "metadata": {},
   "outputs": [],
   "source": [
    "languages=['C','Python','Kotlin','Java','Dart','Go','C++','C#','Html','Javascript','Scale','Rust','Mojo','Assembly']\n",
    "numbers=[12,56,23,67,13,\n",
    "         23,12,56,23,56,\n",
    "         12,34,23,23,12,\n",
    "         34,34,23,53,92]\n",
    "data=[1,'Apple',2,'Avacado',3,'Apricot']\n"
   ]
  },
  {
   "cell_type": "code",
   "execution_count": null,
   "id": "f395cbf1",
   "metadata": {},
   "outputs": [],
   "source": [
    "numbers.count(12) #count hoe many times 12 occurs in list"
   ]
  },
  {
   "cell_type": "code",
   "execution_count": 20,
   "id": "9064f8e5",
   "metadata": {},
   "outputs": [
    {
     "name": "stdout",
     "output_type": "stream",
     "text": [
      "0\n",
      "6\n",
      "3\n"
     ]
    }
   ],
   "source": [
    "print(numbers.count(1))\n",
    "print(numbers.count(23))\n",
    "print(numbers.count(56))"
   ]
  },
  {
   "cell_type": "code",
   "execution_count": null,
   "id": "9c60fbd8",
   "metadata": {},
   "outputs": [
    {
     "name": "stdout",
     "output_type": "stream",
     "text": [
      "0\n",
      "3\n",
      "1\n"
     ]
    }
   ],
   "source": [
    "print(languages.index(\"C\"))\n",
    "print(languages.index(\"Java\"))\n",
    "print(languages.index(\"Python\"))\n",
    "#print(languages.index(\"lisp\")) #will give error\n"
   ]
  },
  {
   "cell_type": "code",
   "execution_count": 25,
   "id": "bb1d67dd",
   "metadata": {},
   "outputs": [
    {
     "name": "stdout",
     "output_type": "stream",
     "text": [
      "Original ['Scale', 'Rust', 'Python', 'Mojo', 'Kotlin', 'Javascript', 'Java', 'Html', 'Go', 'Dart', 'C++', 'C#', 'C', 'Assembly']\n",
      "sorted ['Assembly', 'C', 'C#', 'C++', 'Dart', 'Go', 'Html', 'Java', 'Javascript', 'Kotlin', 'Mojo', 'Python', 'Rust', 'Scale']\n"
     ]
    }
   ],
   "source": [
    "print(\"Original\",languages)\n",
    "languages.sort()       #sort inplace\n",
    "print(\"sorted\",languages)\n"
   ]
  },
  {
   "cell_type": "code",
   "execution_count": 27,
   "id": "dcc3f187",
   "metadata": {},
   "outputs": [
    {
     "name": "stdout",
     "output_type": "stream",
     "text": [
      "Original [1, 'Apple', 2, 'Avacado', 3, 'Apricot']\n",
      "reversed ['Apricot', 3, 'Avacado', 2, 'Apple', 1]\n"
     ]
    }
   ],
   "source": [
    "print(\"Original\",data)\n",
    "data.reverse()\n",
    "print(\"reversed\",data)"
   ]
  },
  {
   "cell_type": "code",
   "execution_count": 1,
   "id": "9702a56b",
   "metadata": {},
   "outputs": [
    {
     "name": "stdout",
     "output_type": "stream",
     "text": [
      "[1, 2, 3, 4]/n[1, 2, 3, 4]/n[1, 2, 3, 4]\n",
      "[1, 2, 3, 4]/n[1, 2, 3, 4]/n[1, 2, 3, 4, 10, 20]\n"
     ]
    }
   ],
   "source": [
    "x=[1,2,3,4]\n",
    "y=x\n",
    "z=x.copy()\n",
    "print(x,y,z,sep='/n')\n",
    "x.append(10)\n",
    "y.pop()\n",
    "z.append(10)\n",
    "z.append(20)\n",
    "print(x,y,z,sep='/n')"
   ]
  },
  {
   "cell_type": "markdown",
   "id": "79f4fa34",
   "metadata": {},
   "source": []
  },
  {
   "cell_type": "code",
   "execution_count": 3,
   "id": "5a15fcad",
   "metadata": {},
   "outputs": [
    {
     "name": "stdout",
     "output_type": "stream",
     "text": [
      "['mango', 'apple', 'banana', 'grapes', 'custard apple', 'pineapple', 'dragon', 'watermelon', 'money heist', 'squid games', 'game of thrones', 'mirzapur', 'indoor ishq', 'stranger things', 'vampira dairies', 'house of the dragon', 'tomato', 'brinjal', 'carrot', 'raddish', 'bettroot', 'ladies finger', 'onion', 'ladies finger', 'chilli', 'drumstcks']\n"
     ]
    }
   ],
   "source": [
    "fruits=[\"mango\",\"apple\",\"banana\",\"grapes\",\"custard apple\",\"pineapple\",\"dragon\",\"watermelon\"]\n",
    "series=[\"money heist\",\"squid games\",\"game of thrones\",\"mirzapur\",\"indoor ishq\",\"stranger things\",\"vampira dairies\",\"house of the dragon\"]\n",
    "veg=[\"tomato\",\"brinjal\",\"carrot\",\"raddish\",\"bettroot\",\"ladies finger\",\"onion\",\"ladies finger\",\"chilli\",\"drumstcks\"]\n",
    "biglist=fruits+series+veg\n",
    "print(biglist)"
   ]
  },
  {
   "cell_type": "markdown",
   "id": "a4131b71",
   "metadata": {},
   "source": [
    "Nested list"
   ]
  },
  {
   "cell_type": "code",
   "execution_count": 6,
   "id": "ea23d9ea",
   "metadata": {},
   "outputs": [
    {
     "name": "stdout",
     "output_type": "stream",
     "text": [
      "[]\n",
      "[[]]\n"
     ]
    }
   ],
   "source": [
    "# list with a list\n",
    "x=[]\n",
    "x2=[[]]\n",
    "print(x)\n",
    "print(x2)\n"
   ]
  },
  {
   "cell_type": "code",
   "execution_count": 7,
   "id": "5035185a",
   "metadata": {},
   "outputs": [
    {
     "name": "stdout",
     "output_type": "stream",
     "text": [
      "[1, 2, 3]\n"
     ]
    }
   ],
   "source": [
    "x.append(1)\n",
    "x.append(2)\n",
    "x.append(3)\n",
    "print(x)"
   ]
  },
  {
   "cell_type": "code",
   "execution_count": 8,
   "id": "909e1960",
   "metadata": {},
   "outputs": [
    {
     "name": "stdout",
     "output_type": "stream",
     "text": [
      "[[], 1, [1, 2, 3], [4, 5, 6]]\n"
     ]
    }
   ],
   "source": [
    "x2.append(1)\n",
    "x2.append([1,2,3])\n",
    "x2.append([4,5,6])\n",
    "print(x2)"
   ]
  },
  {
   "cell_type": "code",
   "execution_count": null,
   "id": "c7c7e586",
   "metadata": {},
   "outputs": [
    {
     "name": "stdout",
     "output_type": "stream",
     "text": [
      "[['red', 'green', 'blue'], ['apple', 'guava', 'blueberry'], [150, 100.3]]\n",
      "size of list 3\n",
      "size of list at index 0 is 3 => ['red', 'green', 'blue']\n",
      "size of list at index 0 is 3 => ['apple', 'guava', 'blueberry']\n",
      "size of list at index 0 is 2 => [150, 100.3]\n",
      "Elements o as list o is red\n",
      "Elements o as list o is blueberry\n",
      "Elements o as list o is apple\n",
      "Elements o as list o is guava\n"
     ]
    }
   ],
   "source": [
    "items=[\n",
    "    ['red','green','blue'],\n",
    "    ['apple','guava','blueberry'],\n",
    "    [150,100.300]\n",
    "]\n",
    "print(items)  \n",
    "print(\"size of list\",len(items))\n",
    "print(\"size of list at index 0 is\", len(items[0]),\"=>\", items[0])\n",
    "print(\"size of list at index 0 is\", len(items[1]),\"=>\", items[1])\n",
    "print(\"size of list at index 0 is\", len(items[2]),\"=>\", items[2])\n",
    "print(\"Elements o as list o is\",items[0][0])\n",
    "print(\"Elements o as list o is\",items[1][2])\n",
    "print(\"Elements o as list o is\",items[1][0])\n",
    "print(\"Elements o as list o is\",items[1][1])\n",
    "\n",
    "\n"
   ]
  },
  {
   "cell_type": "code",
   "execution_count": 16,
   "id": "f0733edc",
   "metadata": {},
   "outputs": [
    {
     "name": "stdout",
     "output_type": "stream",
     "text": [
      "[[12, 23, 45, 25], [85, 95, 25, 15], [30, 32, 35, 5]]\n",
      "size of list 3\n",
      "size of list at index 0 is 4 => [12, 23, 45, 25]\n",
      "size of list at index 0 is 4 => [85, 95, 25, 15]\n",
      "size of list at index 0 is 4 => [30, 32, 35, 5]\n",
      "Elements o as list o is 12\n",
      "Elements o as list o is 25\n",
      "Elements o as list o is 85\n",
      "Elements o as list o is 95\n"
     ]
    }
   ],
   "source": [
    "matrix=[[12,23,45,25],[85,95,25,15],[30,32,35,5]]\n",
    "print(matrix)\n",
    "print(\"size of list\",len(items))\n",
    "print(\"size of list at index 0 is\", len(matrix[0]),\"=>\", matrix[0])\n",
    "print(\"size of list at index 0 is\", len(matrix[1]),\"=>\", matrix[1])\n",
    "print(\"size of list at index 0 is\", len(matrix[2]),\"=>\", matrix[2])\n",
    "print(\"Elements o as list o is\",matrix[0][0])\n",
    "print(\"Elements o as list o is\",matrix[1][2])\n",
    "print(\"Elements o as list o is\",matrix[1][0])\n",
    "print(\"Elements o as list o is\",matrix[1][1])\n",
    "\n"
   ]
  },
  {
   "cell_type": "code",
   "execution_count": 17,
   "id": "4a524e8f",
   "metadata": {},
   "outputs": [
    {
     "name": "stdout",
     "output_type": "stream",
     "text": [
      "12 23 45 25 85 95 25 15 30 32 35 5 "
     ]
    }
   ],
   "source": [
    "#Nested .loop.far nested list\n",
    "for row in matrix:\n",
    "    for val in row:\n",
    "        print(val,end=' ')"
   ]
  },
  {
   "cell_type": "code",
   "execution_count": 22,
   "id": "764f41d1",
   "metadata": {},
   "outputs": [
    {
     "name": "stdout",
     "output_type": "stream",
     "text": [
      "12 23 45 25 \n",
      "85 95 25 15 \n",
      "30 32 35 5 \n"
     ]
    }
   ],
   "source": [
    "#nested loop for nested list\n",
    "for row in  matrix:\n",
    "    for val in row:\n",
    "        print(val,end=' ')\n",
    "    print( )"
   ]
  },
  {
   "cell_type": "code",
   "execution_count": 23,
   "id": "59cf8928",
   "metadata": {},
   "outputs": [
    {
     "name": "stdout",
     "output_type": "stream",
     "text": [
      "427\n"
     ]
    }
   ],
   "source": [
    "total=0\n",
    "for row in matrix:\n",
    "    for val in row:\n",
    "        total+=val\n",
    "print(total)"
   ]
  },
  {
   "cell_type": "code",
   "execution_count": 24,
   "id": "3cd582e6",
   "metadata": {},
   "outputs": [
    {
     "name": "stdout",
     "output_type": "stream",
     "text": [
      "157959112500000000\n"
     ]
    }
   ],
   "source": [
    "total=1\n",
    "for row in matrix:\n",
    "    for val in row:\n",
    "        total*=val\n",
    "print(total)"
   ]
  },
  {
   "cell_type": "code",
   "execution_count": 27,
   "id": "4a9c0566",
   "metadata": {},
   "outputs": [
    {
     "name": "stdout",
     "output_type": "stream",
     "text": [
      "[12, 23, 45, 25] => 105\n",
      "[85, 95, 25, 15] => 220\n",
      "[30, 32, 35, 5] => 102\n"
     ]
    }
   ],
   "source": [
    "for row in matrix:\n",
    "    total=0\n",
    "    for value in row:\n",
    "        total += value\n",
    "    print(row,'=>',total)"
   ]
  },
  {
   "cell_type": "code",
   "execution_count": 36,
   "id": "d2dfc94c",
   "metadata": {},
   "outputs": [
    {
     "name": "stdout",
     "output_type": "stream",
     "text": [
      "[12, 23, 45, 25] => 26.2\n",
      "[85, 95, 25, 15] => 55.0\n",
      "[30, 32, 35, 5] => 25.5\n"
     ]
    }
   ],
   "source": [
    "for row in matrix:\n",
    "    total=0\n",
    "    for value in row:\n",
    "        total += value\n",
    "    avg=round(total/len(row),1)\n",
    "    print(row, '=>', avg)"
   ]
  },
  {
   "cell_type": "code",
   "execution_count": 47,
   "id": "dc157527",
   "metadata": {},
   "outputs": [
    {
     "name": "stdout",
     "output_type": "stream",
     "text": [
      "column 0 => 127\n",
      "column 1 => 150\n",
      "column 2 => 105\n",
      "column 3 => 45\n"
     ]
    }
   ],
   "source": [
    "# wap to print column wise sum of matrix\n",
    "size=len(matrix[0])\n",
    "for c in range (size):\n",
    "    total=0\n",
    "    for r in range (len(matrix)):\n",
    "        total += matrix[r][c]\n",
    "    print(f\"column {c} => {total}\")"
   ]
  },
  {
   "cell_type": "code",
   "execution_count": 3,
   "id": "3b030f9e",
   "metadata": {},
   "outputs": [
    {
     "name": "stdout",
     "output_type": "stream",
     "text": [
      "1 2 3 4 \n",
      "5 6 7 8 \n",
      "9 10 11 12 \n",
      "13 14 151 16 \n"
     ]
    }
   ],
   "source": [
    "#wap to print the lower bound triangle of a matrixm\n",
    "mat2=  [ \n",
    "    [1,2,3,4],\n",
    "    [5,6,7,8],\n",
    "    [9,10,11,12],\n",
    "    [13,14,151,16]\n",
    "]\n",
    "for r in range(len(mat2)):\n",
    "    for c in range(len(mat2[0])):\n",
    "        print(mat2[r][c], end=\" \" )\n",
    "    print() \n"
   ]
  },
  {
   "cell_type": "code",
   "execution_count": null,
   "id": "f91fb8b0",
   "metadata": {},
   "outputs": [
    {
     "data": {
      "text/plain": [
       "[13, 15, 19]"
      ]
     },
     "execution_count": 4,
     "metadata": {},
     "output_type": "execute_result"
    }
   ],
   "source": [
    "#slicing\n",
    "x=[11,12,13,15,19]\n",
    "x[0:3]\n",
    "x[2:5]\n"
   ]
  },
  {
   "cell_type": "code",
   "execution_count": 5,
   "id": "24dd9e86",
   "metadata": {},
   "outputs": [
    {
     "data": {
      "text/plain": [
       "[13, 15, 19]"
      ]
     },
     "execution_count": 5,
     "metadata": {},
     "output_type": "execute_result"
    }
   ],
   "source": [
    "x=[11,12,13,15,19]\n",
    "x[2:len(x)]"
   ]
  },
  {
   "cell_type": "code",
   "execution_count": 16,
   "id": "ff6c1190",
   "metadata": {},
   "outputs": [
    {
     "data": {
      "text/plain": [
       "['c', 'a', 't']"
      ]
     },
     "execution_count": 16,
     "metadata": {},
     "output_type": "execute_result"
    }
   ],
   "source": [
    "x=['e','d','u','c','a','t','i','o','n']\n",
    "x[3:6]"
   ]
  },
  {
   "cell_type": "code",
   "execution_count": 17,
   "id": "f397e86a",
   "metadata": {},
   "outputs": [
    {
     "data": {
      "text/plain": [
       "['a', 't']"
      ]
     },
     "execution_count": 17,
     "metadata": {},
     "output_type": "execute_result"
    }
   ],
   "source": [
    "x=['e','d','u','c','a','t','i','o','n']\n",
    "x[-5:-3]"
   ]
  },
  {
   "cell_type": "code",
   "execution_count": 26,
   "id": "27fda971",
   "metadata": {},
   "outputs": [
    {
     "data": {
      "text/plain": [
       "'shake'"
      ]
     },
     "execution_count": 26,
     "metadata": {},
     "output_type": "execute_result"
    }
   ],
   "source": [
    "#slicing syntax\n",
    "name =\"william shakespeare\"\n",
    "name[8:-6]"
   ]
  },
  {
   "cell_type": "code",
   "execution_count": 27,
   "id": "4a5ce293",
   "metadata": {},
   "outputs": [
    {
     "data": {
      "text/plain": [
       "19"
      ]
     },
     "execution_count": 27,
     "metadata": {},
     "output_type": "execute_result"
    }
   ],
   "source": [
    "name=\"william shakespeare\"\n",
    "len(name)"
   ]
  },
  {
   "cell_type": "code",
   "execution_count": 30,
   "id": "8e0d6e04",
   "metadata": {},
   "outputs": [
    {
     "data": {
      "text/plain": [
       "'liam'"
      ]
     },
     "execution_count": 30,
     "metadata": {},
     "output_type": "execute_result"
    }
   ],
   "source": [
    "name='william shakespeare'\n",
    "name[3:7]"
   ]
  },
  {
   "cell_type": "code",
   "execution_count": 36,
   "id": "7cdf2172",
   "metadata": {},
   "outputs": [
    {
     "data": {
      "text/plain": [
       "'peare'"
      ]
     },
     "execution_count": 36,
     "metadata": {},
     "output_type": "execute_result"
    }
   ],
   "source": [
    "\n",
    "name=\"william shakespeare\"\n",
    "name[-5:]\n"
   ]
  },
  {
   "cell_type": "code",
   "execution_count": 37,
   "id": "041500b9",
   "metadata": {},
   "outputs": [
    {
     "data": {
      "text/plain": [
       "'william'"
      ]
     },
     "execution_count": 37,
     "metadata": {},
     "output_type": "execute_result"
    }
   ],
   "source": [
    "name=\"william shakespeare\"\n",
    "name[:7]"
   ]
  },
  {
   "cell_type": "code",
   "execution_count": null,
   "id": "8e874eb7",
   "metadata": {},
   "outputs": [
    {
     "data": {
      "text/plain": [
       "'sakrh'"
      ]
     },
     "execution_count": 44,
     "metadata": {},
     "output_type": "execute_result"
    }
   ],
   "source": [
    "#even number slicing\n",
    "name=\"shaik ruhi\"\n",
    "name[: : 2]\n"
   ]
  },
  {
   "cell_type": "code",
   "execution_count": 45,
   "id": "92ef96a4",
   "metadata": {},
   "outputs": [
    {
     "data": {
      "text/plain": [
       "'hi ui'"
      ]
     },
     "execution_count": 45,
     "metadata": {},
     "output_type": "execute_result"
    }
   ],
   "source": [
    "name=\"shaik ruhi\"\n",
    "name[1::2]"
   ]
  },
  {
   "cell_type": "code",
   "execution_count": 13,
   "id": "ee153ce7",
   "metadata": {},
   "outputs": [
    {
     "data": {
      "text/plain": [
       "'vijay'"
      ]
     },
     "execution_count": 13,
     "metadata": {},
     "output_type": "execute_result"
    }
   ],
   "source": [
    "name=\"vijay deenanath chauhan\"\n",
    "fname[:5]\n"
   ]
  },
  {
   "cell_type": "code",
   "execution_count": 21,
   "id": "72646273",
   "metadata": {},
   "outputs": [
    {
     "name": "stdout",
     "output_type": "stream",
     "text": [
      "13\n",
      "11\n",
      "9\n",
      "7\n",
      "6\n",
      "4\n",
      "3\n",
      "2\n",
      "1\n"
     ]
    }
   ],
   "source": [
    "#reverse print element\n",
    "x=[1,2,3,4,6,7,9,11,13]\n",
    "for item in x[: : -1]:\n",
    "    print(item)"
   ]
  },
  {
   "cell_type": "code",
   "execution_count": null,
   "id": "afd2a4ce",
   "metadata": {},
   "outputs": [],
   "source": [
    "#reverse a list in place\n",
    "a=[1,2,3]\n",
    "a[:]  #get all element\n",
    "a[:]=a[::-1]\n"
   ]
  },
  {
   "cell_type": "code",
   "execution_count": 36,
   "id": "7101f560",
   "metadata": {},
   "outputs": [
    {
     "name": "stdout",
     "output_type": "stream",
     "text": [
      "[1, 2, 3, 4, 5] [3, 4, 5, 1, 2]\n"
     ]
    }
   ],
   "source": [
    "#rotate list\n",
    "x=[1,2,3,4,5]\n",
    "ans=x[2:]+x[:2]\n",
    "print(x,ans)"
   ]
  },
  {
   "cell_type": "code",
   "execution_count": 42,
   "id": "240a32f5",
   "metadata": {},
   "outputs": [
    {
     "name": "stdout",
     "output_type": "stream",
     "text": [
      "[1, 3, 4, 5] [2, 6, 8, 10]\n"
     ]
    }
   ],
   "source": [
    "#comprehension\n",
    "x=[1,3,4,5]\n",
    "x2=[]\n",
    "for i in x:\n",
    "    s=i*2\n",
    "    x2.append(s)\n",
    "print(x,x2)"
   ]
  },
  {
   "cell_type": "code",
   "execution_count": 43,
   "id": "b0055270",
   "metadata": {},
   "outputs": [
    {
     "name": "stdout",
     "output_type": "stream",
     "text": [
      "[4, 8, 12, 16] [2, 4, 6, 8]\n"
     ]
    }
   ],
   "source": [
    "x=[4,8,12,16]\n",
    "x3=[]\n",
    "for i in x:\n",
    "    x3.append(i//2)\n",
    "print(x,x3)"
   ]
  },
  {
   "cell_type": "code",
   "execution_count": 44,
   "id": "bfbb8311",
   "metadata": {},
   "outputs": [
    {
     "name": "stdout",
     "output_type": "stream",
     "text": [
      "[1, 2, 3]/h[4, 5, 6]/h[5, 7, 9]\n"
     ]
    }
   ],
   "source": [
    "x=[1,2,3]\n",
    "y=[4,5,6]\n",
    "xy=[]\n",
    "for i,j in zip(x,y):\n",
    "    xy.append(i+j)\n",
    "print(x,y,xy,sep=\"/h\")    \n"
   ]
  },
  {
   "cell_type": "code",
   "execution_count": 50,
   "id": "58ccab83",
   "metadata": {},
   "outputs": [
    {
     "name": "stdout",
     "output_type": "stream",
     "text": [
      "[2, 3, 4] [4, 9, 16]\n"
     ]
    }
   ],
   "source": [
    "z=[2,3,4]\n",
    "zsqr=[]\n",
    "for i in z:\n",
    "    zsqr.append(i**2)\n",
    "print(z,zsqr)"
   ]
  },
  {
   "cell_type": "code",
   "execution_count": 54,
   "id": "cd19a0e6",
   "metadata": {},
   "outputs": [
    {
     "name": "stdout",
     "output_type": "stream",
     "text": [
      "[1, 2, 3] [2, 4, 6]\n"
     ]
    }
   ],
   "source": [
    "y=[1,2,3]\n",
    "y2=[i*2 for i in y]\n",
    "print(y,y2)"
   ]
  },
  {
   "cell_type": "code",
   "execution_count": 1,
   "id": "261342cb",
   "metadata": {},
   "outputs": [
    {
     "ename": "SyntaxError",
     "evalue": "invalid syntax (4010026132.py, line 2)",
     "output_type": "error",
     "traceback": [
      "  \u001b[36mCell\u001b[39m\u001b[36m \u001b[39m\u001b[32mIn[1]\u001b[39m\u001b[32m, line 2\u001b[39m\n\u001b[31m    \u001b[39m\u001b[31mnewlist=[operation for loop]\u001b[39m\n                               ^\n\u001b[31mSyntaxError\u001b[39m\u001b[31m:\u001b[39m invalid syntax\n"
     ]
    }
   ],
   "source": [
    "#syntax \n",
    "newlist=[operation for loop]\n",
    "x2=[i**2 for i in x]\n",
    "y3=[a**3 for a in Y]"
   ]
  }
 ],
 "metadata": {
  "kernelspec": {
   "display_name": "Python 3",
   "language": "python",
   "name": "python3"
  },
  "language_info": {
   "codemirror_mode": {
    "name": "ipython",
    "version": 3
   },
   "file_extension": ".py",
   "mimetype": "text/x-python",
   "name": "python",
   "nbconvert_exporter": "python",
   "pygments_lexer": "ipython3",
   "version": "3.12.3"
  }
 },
 "nbformat": 4,
 "nbformat_minor": 5
}
