{
 "cells": [
  {
   "cell_type": "code",
   "execution_count": 2,
   "id": "caae7358",
   "metadata": {},
   "outputs": [],
   "source": [
    "class Bottle:\n",
    "    color=\" red\"\n",
    "    shape=\" \"\n",
    "    size=\" \"\n",
    "    brand=\" \"\n",
    "    cap=\" \"\n",
    "    height=\" \"\n",
    "    price=\" \" \n",
    "    volume=\" \"\n",
    "    shape=\" \"\n",
    "    material=\" \"\n",
    "    "
   ]
  },
  {
   "cell_type": "code",
   "execution_count": null,
   "id": "41999c0a",
   "metadata": {},
   "outputs": [
    {
     "name": "stdout",
     "output_type": "stream",
     "text": [
      "<class '__main__.Polygon'>\n",
      "<__main__.Polygon object at 0x000001CCCD932120>\n",
      "0\n",
      "3\n"
     ]
    }
   ],
   "source": [
    "class Polygon:\n",
    "    side=0\n",
    "triangle=Polygon()\n",
    "triangle.side=3\n",
    "print(Polygon)            #main means current running file\n",
    "print(triangle)             #memory location\n",
    "print(Polygon.side)        \n",
    "print(triangle.side)\n",
    "    "
   ]
  },
  {
   "cell_type": "code",
   "execution_count": 1,
   "id": "78c3e18f",
   "metadata": {},
   "outputs": [
    {
     "name": "stdout",
     "output_type": "stream",
     "text": [
      "Ruhi\n",
      "21\n",
      "MCA\n"
     ]
    }
   ],
   "source": [
    "class Student:\n",
    "    name=\"Ruhi\"\n",
    "    age=21\n",
    "    course=\"MCA\"\n",
    "student1=Student()\n",
    "print(student1.name)\n",
    "print(student1.age)\n",
    "print(student1.course)    "
   ]
  },
  {
   "cell_type": "code",
   "execution_count": 2,
   "id": "77a8fd17",
   "metadata": {},
   "outputs": [
    {
     "name": "stdout",
     "output_type": "stream",
     "text": [
      "Ruhi\n",
      "23\n",
      "network engineer\n"
     ]
    }
   ],
   "source": [
    "class Emp:\n",
    "    name=\"Ruhi\"\n",
    "    age=23\n",
    "    position=\"network engineer\"\n",
    "employee1=Emp()\n",
    "print(employee1.name)\n",
    "print(employee1.age)\n",
    "print(employee1.position)\n",
    "\n"
   ]
  },
  {
   "cell_type": "code",
   "execution_count": 3,
   "id": "5f8610f9",
   "metadata": {},
   "outputs": [
    {
     "name": "stdout",
     "output_type": "stream",
     "text": [
      "samsung\n",
      "45000\n",
      "black\n"
     ]
    }
   ],
   "source": [
    "class Tv:\n",
    "    brand=\"samsung\"\n",
    "    price=\"45000\"\n",
    "    color=\"black\"\n",
    "tv1=Tv()\n",
    "print(tv1.brand)\n",
    "print(tv1.price)\n",
    "print(tv1.color)    "
   ]
  },
  {
   "cell_type": "code",
   "execution_count": 4,
   "id": "fb547e6c",
   "metadata": {},
   "outputs": [
    {
     "name": "stdout",
     "output_type": "stream",
     "text": [
      "LG\n",
      "35000\n",
      "silver\n"
     ]
    }
   ],
   "source": [
    "class Fridge:\n",
    "    brand=\"LG\"\n",
    "    price=\"35000\"\n",
    "    color=\"silver\"\n",
    "fridge1=Fridge()\n",
    "print(fridge1.brand)\n",
    "print(fridge1.price) \n",
    "print(fridge1.color)   "
   ]
  },
  {
   "cell_type": "code",
   "execution_count": null,
   "id": "199ea008",
   "metadata": {},
   "outputs": [
    {
     "name": "stdout",
     "output_type": "stream",
     "text": [
      "acer\n",
      "55000\n",
      "black\n"
     ]
    }
   ],
   "source": [
    "class Laptop:\n",
    "    brand=\"acer\"\n",
    "    price=55000\n",
    "    color=\"black\"\n",
    "laptop1=Laptop()\n",
    "print(laptop1.brand)\n",
    "print(laptop1.price)\n",
    "print(laptop1.color)\n",
    "   "
   ]
  },
  {
   "cell_type": "markdown",
   "id": "5a8c6e10",
   "metadata": {},
   "source": [
    "#no constructor                                                  \n",
    "class Area:                                                       constructor\n",
    "    len=0                                                          class Area2:  \n",
    "    bth=0                                                          def__init__(self,len,bth):\n",
    "    def calc(self):                                                      self.1=len\n",
    "        ans=self.len*self.bth                                            self.b=bth        \n",
    "        return                                                     def calc(self):\n",
    "                                                                        ans=self.i*self.b\n",
    "                                                                        return ans           "
   ]
  },
  {
   "cell_type": "code",
   "execution_count": 10,
   "id": "9ef84dcf",
   "metadata": {},
   "outputs": [],
   "source": [
    "#no constructor\n",
    "class Area:\n",
    "    len=0\n",
    "    bth=0\n",
    "    def calc(self):\n",
    "        ans=self.len*self.bth\n",
    "        return "
   ]
  },
  {
   "cell_type": "code",
   "execution_count": 11,
   "id": "cea4182b",
   "metadata": {},
   "outputs": [],
   "source": [
    "# constuctor\n",
    "class Area2:\n",
    "    def __init__(self,len,bth):\n",
    "        self.l=len\n",
    "        self.b=bth\n",
    "        \n",
    "    def calc (self):\n",
    "        ans=self.l*self.b \n",
    "        return ans   "
   ]
  },
  {
   "cell_type": "code",
   "execution_count": 17,
   "id": "1a571fd4",
   "metadata": {},
   "outputs": [
    {
     "name": "stdout",
     "output_type": "stream",
     "text": [
      "5 9 None\n"
     ]
    }
   ],
   "source": [
    "o1=Area()\n",
    "o1.len=5\n",
    "o1.bth=9\n",
    "res=o1.calc()\n",
    "print(o1.len,o1.bth,res)"
   ]
  },
  {
   "cell_type": "code",
   "execution_count": 3,
   "id": "4a8a3c0d",
   "metadata": {},
   "outputs": [
    {
     "name": "stdout",
     "output_type": "stream",
     "text": [
      "6 8 None\n"
     ]
    }
   ],
   "source": [
    "o2=Area()\n",
    "o2.len=6\n",
    "o2.bth=8\n",
    "res=o2.calc()\n",
    "print(o2.len,o2.bth,res)"
   ]
  },
  {
   "cell_type": "code",
   "execution_count": 15,
   "id": "9c6649c8",
   "metadata": {},
   "outputs": [
    {
     "name": "stdout",
     "output_type": "stream",
     "text": [
      "9 7 None\n"
     ]
    }
   ],
   "source": [
    "o3=Area()\n",
    "o3.len=9\n",
    "o3.bth=7\n",
    "res=o3.calc()\n",
    "print(o3.len,o3.bth,res)"
   ]
  },
  {
   "cell_type": "code",
   "execution_count": null,
   "id": "dcaf51cc",
   "metadata": {},
   "outputs": [
    {
     "name": "stdout",
     "output_type": "stream",
     "text": [
      "15 5 130\n",
      "10 13 130\n"
     ]
    }
   ],
   "source": [
    "o4=Area2(15,5)\n",
    "print(o4.l,o4.b,res)"
   ]
  },
  {
   "cell_type": "code",
   "execution_count": 19,
   "id": "73674fbb",
   "metadata": {},
   "outputs": [
    {
     "name": "stdout",
     "output_type": "stream",
     "text": [
      "10 13 130\n"
     ]
    }
   ],
   "source": [
    "o5=Area2(10,13)\n",
    "res=o5.calc()\n",
    "print(o5.l,o5.b,res)"
   ]
  },
  {
   "cell_type": "code",
   "execution_count": 24,
   "id": "5aca0aa5",
   "metadata": {},
   "outputs": [],
   "source": [
    "class Dog:\n",
    "    def __init__(self,breed,color,age):\n",
    "        self.breed=breed\n",
    "        self.color=color\n",
    "        self.age=age\n",
    "    def show(self):\n",
    "        print('The dog details')\n",
    "        print('Breed',self.breed)\n",
    "        print('Age',self.age)            "
   ]
  },
  {
   "cell_type": "code",
   "execution_count": 22,
   "id": "93ef75b3",
   "metadata": {},
   "outputs": [
    {
     "name": "stdout",
     "output_type": "stream",
     "text": [
      "The dog details\n",
      "Breed golden retreiver\n",
      "Age 3\n",
      "The dog details\n",
      "Breed Dalmatian\n",
      "Age 5\n",
      "The dog details\n",
      "Breed Bulldog\n",
      "Age 6\n",
      "The dog details\n",
      "Breed German shepherd\n",
      "Age 4\n"
     ]
    }
   ],
   "source": [
    "bruno = Dog('golden retreiver','golden',3)\n",
    "buddy = Dog('Dalmatian','blacksmith',5)\n",
    "sammy = Dog('Bulldog','black',6)\n",
    "alex = Dog('German shepherd','brown',4)\n",
    "bruno.show()\n",
    "buddy.show()\n",
    "sammy.show()\n",
    "alex.show()"
   ]
  },
  {
   "cell_type": "code",
   "execution_count": 25,
   "id": "4ea541a3",
   "metadata": {},
   "outputs": [
    {
     "name": "stdout",
     "output_type": "stream",
     "text": [
      "The dog details\n",
      "Breed Bulldog\n",
      "Age 6\n",
      "None\n"
     ]
    }
   ],
   "source": [
    "doglist=[bruno,sammy,alex,buddy]\n",
    "#display details of the eldest dogs using logic\n",
    "age=0\n",
    "eldest_dog=None\n",
    "for dog in doglist:\n",
    "    if age<=dog.age:\n",
    "        age=dog.age\n",
    "        eldest_dog=dog\n",
    "print(eldest_dog.show())        \n",
    "        \n",
    "        "
   ]
  },
  {
   "cell_type": "code",
   "execution_count": 7,
   "id": "754a4e56",
   "metadata": {},
   "outputs": [
    {
     "name": "stdout",
     "output_type": "stream",
     "text": [
      "All available dragons:\n",
      "1.waterDragon\n",
      "2.fireDragon\n",
      "3.iceDragon\n"
     ]
    }
   ],
   "source": [
    "# a simple class\n",
    "class Dragon:\n",
    "    def __init__(self,type):\n",
    "        self.type=type\n",
    "        \n",
    "#instances\n",
    "water_dragon=Dragon(\"water\")\n",
    "fire_dragon=Dragon(\"fire\")\n",
    "ice_dragon=Dragon(\"ice\")\n",
    "\n",
    "print(\"All available dragons:\") \n",
    "print(f'1.{water_dragon.type}Dragon')\n",
    "print(f'2.{fire_dragon.type}Dragon')    \n",
    "print(f'3.{ice_dragon.type}Dragon')"
   ]
  },
  {
   "cell_type": "code",
   "execution_count": 15,
   "id": "a0c89f45",
   "metadata": {},
   "outputs": [],
   "source": [
    "class Pokemon:\n",
    "    def __init__(self,name,type='Normal',hp=10,atk=10,dfn=10):\n",
    "        self.name=name\n",
    "        self.type=type\n",
    "        self.hp=hp\n",
    "        self.atk=atk\n",
    "        self.dfn=dfn\n",
    "        \n",
    "    def stats(self):\n",
    "        print(\"Pokemon Details\")\n",
    "        print(f'Name:{self.name}')\n",
    "        print(f'type:{self.type}')\n",
    "        print(f'Hp:{self.hp}')\n",
    "        print(f'Attack{self.atk}')\n",
    "        print(f'Defense:{self.dfn}')     \n",
    "    def overall (self):\n",
    "        return self.hp+self.atk+self.dfn\n",
    "    def is_powerfull(self):\n",
    "        if self.overall()>100:\n",
    "            return True\n",
    "        return False       \n",
    "        "
   ]
  },
  {
   "cell_type": "code",
   "execution_count": 16,
   "id": "0a68f4d8",
   "metadata": {},
   "outputs": [
    {
     "name": "stdout",
     "output_type": "stream",
     "text": [
      "\n",
      "Stats:\n",
      "Pokemon Details\n",
      "Name:Pikachu\n",
      "type:Electric\n",
      "Hp:35\n",
      "Attack55\n",
      "Defense:40\n",
      "overall score:130\n",
      "Is Powerfull:True\n",
      "-----------------\n",
      "Pokemon Details\n",
      "Name:Snorlax\n",
      "type:Normal\n",
      "Hp:160\n",
      "Attack110\n",
      "Defense:65\n",
      "overall score:335\n",
      "Is Powerfull:True\n",
      "-----------------\n",
      "Pokemon Details\n",
      "Name:Charizard\n",
      "type:Fire/Flying\n",
      "Hp:78\n",
      "Attack84\n",
      "Defense:78\n",
      "overall score:240\n",
      "Is Powerfull:True\n",
      "-----------------\n",
      "Pokemon Details\n",
      "Name:Bulbasur\n",
      "type:Grass/Poison\n",
      "Hp:45\n",
      "Attack49\n",
      "Defense:49\n",
      "overall score:143\n",
      "Is Powerfull:True\n",
      "-----------------\n",
      "Pokemon Details\n",
      "Name:Rattata\n",
      "type:Normal\n",
      "Hp:10\n",
      "Attack10\n",
      "Defense:10\n",
      "overall score:30\n",
      "Is Powerfull:False\n",
      "-----------------\n"
     ]
    }
   ],
   "source": [
    "pikachu=Pokemon(\"Pikachu\",\"Electric\",35,55,40)\n",
    "snorlax=Pokemon(\"Snorlax\",\"Normal\",160,110,65)\n",
    "charizard=Pokemon(\"Charizard\",\"Fire/Flying\",78,84,78)\n",
    "bulbasur=Pokemon(\"Bulbasur\",\"Grass/Poison\",45,49,49)\n",
    "rattata=Pokemon(\"Rattata\")\n",
    "\n",
    "pokemon=[pikachu,snorlax,charizard,bulbasur,rattata]\n",
    "print(\"\\nStats:\")\n",
    "for poke in pokemon:\n",
    "    poke.stats()\n",
    "    print(f'overall score:{poke.overall()}')\n",
    "    print(f'Is Powerfull:{poke .is_powerfull()}')\n",
    "    print('-----------------')\n",
    "    "
   ]
  },
  {
   "cell_type": "code",
   "execution_count": 2,
   "id": "6fed836c",
   "metadata": {},
   "outputs": [],
   "source": [
    "class Calc:\n",
    "    def run(self,num1,operator,num2): \n",
    "        match operator:\n",
    "            case'+':return self.add(num1,num2)\n",
    "            case'-':return self.subtract(num1,num2)\n",
    "            case'/':return self.divide(num1,num2)\n",
    "            case'*':return self.multiply(num1,num2)\n",
    "    def add(self,a,b): return a+b\n",
    "    def multiply(self,a,b): return a*b\n",
    "    def substract(self,a,b): return a-b\n",
    "    def divide(self,a,b):\n",
    "        if b==0: return \"can't divide by 0\"\n",
    "        return a/b"
   ]
  },
  {
   "cell_type": "code",
   "execution_count": 4,
   "id": "a9ee61b6",
   "metadata": {},
   "outputs": [
    {
     "name": "stdout",
     "output_type": "stream",
     "text": [
      "40\n"
     ]
    }
   ],
   "source": [
    "#calculator instances\n",
    "c=Calc()\n",
    "while True:\n",
    "    a=int(input(\"enter first num\"))\n",
    "    b=int(input(\"enter next num\"))\n",
    "    op=input(\"enter operation(+,-,/,*)\")\n",
    "    ans=c.run(a,op,b)\n",
    "    print(ans)\n",
    "    if input('continue')!='y':\n",
    "        break"
   ]
  },
  {
   "cell_type": "code",
   "execution_count": null,
   "id": "539337a8",
   "metadata": {},
   "outputs": [
    {
     "name": "stdout",
     "output_type": "stream",
     "text": [
      "Length: 10\n",
      "Width: 5\n",
      "Area: 50\n",
      "Perimeter: 30\n"
     ]
    }
   ],
   "source": [
    "class Rectangle:\n",
    "   \n",
    "    def __init__(self):\n",
    "        self.length = 0\n",
    "        self.width = 0\n",
    "\n",
    "  \n",
    "    def set_dimensions(self, length, width):\n",
    "        self.length = length\n",
    "        self.width = width\n",
    "\n",
    "   \n",
    "    def calculate_area(self):\n",
    "        return self.length * self.width\n",
    "\n",
    "   \n",
    "    def calculate_perimeter(self):\n",
    "        return 2 * (self.length + self.width)\n",
    "\n",
    "\n",
    "\n",
    "rect = Rectangle()  \n",
    "rect.set_dimensions(10, 5)  \n",
    "\n",
    "print(\"Length:\", rect.length)\n",
    "print(\"Width:\", rect.width)\n",
    "print(\"Area:\", rect.calculate_area())\n",
    "print(\"Perimeter:\", rect.calculate_perimeter())\n"
   ]
  },
  {
   "cell_type": "code",
   "execution_count": 16,
   "id": "41e6b2c4",
   "metadata": {},
   "outputs": [
    {
     "name": "stdout",
     "output_type": "stream",
     "text": [
      "Student name: varsha\n",
      "Total Marks: 255\n",
      "Average Marks: 85.0\n"
     ]
    }
   ],
   "source": [
    "# student Grade Manager\n",
    "class Student:\n",
    "    def __init__(self,name,mark1,mark2,mark3):\n",
    "        self.name=name\n",
    "        self.mark1=mark1\n",
    "        self.mark2=mark2\n",
    "        self.mark3=mark3\n",
    "    def calculate_total(self):\n",
    "        total=self.mark1+self.mark2+self.mark3\n",
    "        return total\n",
    "    def calculate_average(self):\n",
    "        average=self.calculate_total()/3\n",
    "        return average\n",
    "student1=Student(\"varsha\",85,90,80)\n",
    "print(\"Student name:\",student1.name)\n",
    "print(\"Total Marks:\",student1.calculate_total())\n",
    "print(\"Average Marks:\", student1.calculate_average()) \n",
    "    "
   ]
  },
  {
   "cell_type": "code",
   "execution_count": null,
   "id": "9f102a39",
   "metadata": {},
   "outputs": [
    {
     "name": "stdout",
     "output_type": "stream",
     "text": [
      "Temperature in Celsius: 25\n",
      "Temperature in Fahrenheit: 77.0\n",
      "Temperature in Kelvin: 298.15\n"
     ]
    }
   ],
   "source": [
    "#Temperature conertor\n",
    "class Temperature:\n",
    " \n",
    "    def __init__(self):\n",
    "        self.celsius = 0.0\n",
    "\n",
    "    def set_celsius(self, celsius):\n",
    "        self.celsius = celsius\n",
    "        \n",
    "    def to_fahrenheit(self):\n",
    "        fahrenheit = (self.celsius * 9/5) + 32\n",
    "        return fahrenheit\n",
    "\n",
    "    \n",
    "    def to_kelvin(self):\n",
    "        kelvin = self.celsius + 273.15\n",
    "        return kelvin\n",
    "temp = Temperature()\n",
    "temp.set_celsius(25)\n",
    "\n",
    "print(\"Temperature in Celsius:\", temp.celsius)\n",
    "print(\"Temperature in Fahrenheit:\", temp.to_fahrenheit())\n",
    "print(\"Temperature in Kelvin:\", temp.to_kelvin())\n"
   ]
  },
  {
   "cell_type": "code",
   "execution_count": 22,
   "id": "0289ec8e",
   "metadata": {},
   "outputs": [
    {
     "name": "stdout",
     "output_type": "stream",
     "text": [
      "✅ Added Shampoo - ₹200\n",
      "✅ Added Soap - ₹50\n",
      "✅ Added Toothpaste - ₹120\n",
      "\n",
      "Items in your cart:\n",
      "- Shampoo: ₹200\n",
      "- Soap: ₹50\n",
      "- Toothpaste: ₹120\n",
      "Total: ₹370\n",
      "❌ Removed Soap\n",
      "\n",
      "Items in your cart:\n",
      "- Shampoo: ₹200\n",
      "- Toothpaste: ₹120\n",
      "Total: ₹320\n"
     ]
    }
   ],
   "source": [
    "#shopping cart\n",
    "\n",
    "class ShoppingCart:\n",
    "    \n",
    "    def __init__(self):\n",
    "        self.items = []  \n",
    "\n",
    "    \n",
    "    def add_item(self, name, price):\n",
    "        self.items.append({'name': name, 'price': price})\n",
    "        print(f\"✅ Added {name} - ₹{price}\")\n",
    "\n",
    "   \n",
    "    def remove_item(self, name):\n",
    "        for item in self.items:\n",
    "            if item['name'] == name:\n",
    "                self.items.remove(item)\n",
    "                print(f\"❌ Removed {name}\")\n",
    "                break\n",
    "        else:\n",
    "            print(f\"⚠️ Item '{name}' not found in cart!\")\n",
    "\n",
    "   \n",
    "    def calculate_total(self):\n",
    "        total = sum(item['price'] for item in self.items)\n",
    "        return total\n",
    "\n",
    "    def show_cart(self):\n",
    "        if not self.items:\n",
    "            print(\"🛒 Your cart is empty.\")\n",
    "        else:\n",
    "            print(\"\\nItems in your cart:\")\n",
    "            for item in self.items:\n",
    "                print(f\"- {item['name']}: ₹{item['price']}\")\n",
    "            print(f\"Total: ₹{self.calculate_total()}\")\n",
    "\n",
    "\n",
    "\n",
    "cart = ShoppingCart()\n",
    "cart.add_item(\"Shampoo\", 200)\n",
    "cart.add_item(\"Soap\", 50)\n",
    "cart.add_item(\"Toothpaste\", 120)\n",
    "\n",
    "cart.show_cart()\n",
    "\n",
    "cart.remove_item(\"Soap\")\n",
    "cart.show_cart()\n"
   ]
  },
  {
   "cell_type": "code",
   "execution_count": 23,
   "id": "5c68b667",
   "metadata": {},
   "outputs": [
    {
     "name": "stdout",
     "output_type": "stream",
     "text": [
      "Before Raise:\n",
      "Employee nameRuhi\n",
      "Employee ID:E101\n",
      "Current Salary:₹50000.00\n",
      "\n",
      "After 10% Raise:\n",
      "Employee nameRuhi\n",
      "Employee ID:E101\n",
      "Current Salary:₹55000.00\n"
     ]
    }
   ],
   "source": [
    "# Employee Management\n",
    "class Employee:\n",
    "    def __init__(self):\n",
    "        self.name=\"\"\n",
    "        self.emp_id=\"\"\n",
    "        self.salary=0.0\n",
    "    def set_details(self,name,emp_id,salary):\n",
    "        self.name=name\n",
    "        self.emp_id=emp_id\n",
    "        self.salary=salary    \n",
    "    def give_raise(self,percentage):\n",
    "        self.salary=self.salary *(1+(percentage/100))\n",
    "    def display_details(self):\n",
    "        print(f\"Employee name{self.name}\")\n",
    "        print(f\"Employee ID:{self.emp_id}\")\n",
    "        print(f\"Current Salary:₹{self.salary:.2f}\")    \n",
    "        \n",
    "emp1=Employee()\n",
    "emp1.set_details(\"Ruhi\",\"E101\",50000)\n",
    "print(\"Before Raise:\")\n",
    "emp1.display_details()\n",
    "\n",
    "emp1.give_raise(10)\n",
    "print(\"\\nAfter 10% Raise:\")\n",
    "emp1.display_details()        "
   ]
  },
  {
   "cell_type": "code",
   "execution_count": null,
   "id": "bd6acd04",
   "metadata": {},
   "outputs": [],
   "source": []
  }
 ],
 "metadata": {
  "kernelspec": {
   "display_name": "Python 3",
   "language": "python",
   "name": "python3"
  },
  "language_info": {
   "codemirror_mode": {
    "name": "ipython",
    "version": 3
   },
   "file_extension": ".py",
   "mimetype": "text/x-python",
   "name": "python",
   "nbconvert_exporter": "python",
   "pygments_lexer": "ipython3",
   "version": "3.13.6"
  }
 },
 "nbformat": 4,
 "nbformat_minor": 5
}
