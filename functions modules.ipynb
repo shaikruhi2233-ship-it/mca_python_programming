{
 "cells": [
  {
   "cell_type": "code",
   "execution_count": 2,
   "id": "9a9b0cbb",
   "metadata": {},
   "outputs": [
    {
     "name": "stdout",
     "output_type": "stream",
     "text": [
      "odd\n"
     ]
    }
   ],
   "source": [
    "n=input('enter value')\n",
    "if int(n)%2==0:\n",
    "    print('even')\n",
    "else:\n",
    "    print('odd')    "
   ]
  },
  {
   "cell_type": "code",
   "execution_count": null,
   "id": "14f4e658",
   "metadata": {},
   "outputs": [],
   "source": []
  }
 ],
 "metadata": {
  "kernelspec": {
   "display_name": "Python 3",
   "language": "python",
   "name": "python3"
  },
  "language_info": {
   "codemirror_mode": {
    "name": "ipython",
    "version": 3
   },
   "file_extension": ".py",
   "mimetype": "text/x-python",
   "name": "python",
   "nbconvert_exporter": "python",
   "pygments_lexer": "ipython3",
   "version": "3.13.6"
  }
 },
 "nbformat": 4,
 "nbformat_minor": 5
}
