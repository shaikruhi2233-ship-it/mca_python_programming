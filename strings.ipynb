{
 "cells": [
  {
   "cell_type": "code",
   "execution_count": 1,
   "id": "45e7c7a0",
   "metadata": {},
   "outputs": [
    {
     "name": "stdout",
     "output_type": "stream",
     "text": [
      "once upon a time twice upon a time\n",
      "oncl upon a timl\n"
     ]
    }
   ],
   "source": [
    "s=\"once upon a time\"\n",
    "s2=s.replace('once','twice')\n",
    "print(s,s2)\n",
    "s3=s.replace('e','l')\n",
    "print(s3)\n"
   ]
  },
  {
   "cell_type": "code",
   "execution_count": 2,
   "id": "b0cbbd87",
   "metadata": {},
   "outputs": [
    {
     "name": "stdout",
     "output_type": "stream",
     "text": [
      "py#t#h#o#n\n",
      "python\n"
     ]
    }
   ],
   "source": [
    "#replace for reomving content\n",
    "data='py#t#h#o#n'\n",
    "cleaned_data=data.replace('#','')\n",
    "print(data,cleaned_data,sep='\\n')"
   ]
  },
  {
   "cell_type": "code",
   "execution_count": 3,
   "id": "4f8c8004",
   "metadata": {},
   "outputs": [
    {
     "name": "stdout",
     "output_type": "stream",
     "text": [
      "7\n",
      "-1\n",
      "2\n",
      "3\n",
      "13\n"
     ]
    }
   ],
   "source": [
    "#find/index\n",
    "\n",
    "m=\"alpine mountain range\"\n",
    "print(m.find('mountain'))\n",
    "print(m.find('lion'))\n",
    "print(m.find('pine'))\n",
    "print(m.find('i'))\n",
    "print(m.find('i',4))"
   ]
  },
  {
   "cell_type": "code",
   "execution_count": null,
   "id": "3ba3d0bf",
   "metadata": {},
   "outputs": [],
   "source": []
  }
 ],
 "metadata": {
  "kernelspec": {
   "display_name": "Python 3",
   "language": "python",
   "name": "python3"
  },
  "language_info": {
   "codemirror_mode": {
    "name": "ipython",
    "version": 3
   },
   "file_extension": ".py",
   "mimetype": "text/x-python",
   "name": "python",
   "nbconvert_exporter": "python",
   "pygments_lexer": "ipython3",
   "version": "3.13.6"
  }
 },
 "nbformat": 4,
 "nbformat_minor": 5
}
